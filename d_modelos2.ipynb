{
 "cells": [
  {
   "cell_type": "code",
   "execution_count": 2,
   "id": "FkOWLnjoWRsp",
   "metadata": {
    "colab": {
     "base_uri": "https://localhost:8080/"
    },
    "executionInfo": {
     "elapsed": 19896,
     "status": "ok",
     "timestamp": 1747097502870,
     "user": {
      "displayName": "MATEO TORO LOPEZ",
      "userId": "14024993212465818370"
     },
     "user_tz": 300
    },
    "id": "FkOWLnjoWRsp",
    "outputId": "57a2d056-6692-4709-a6c7-cf88df1cf029"
   },
   "outputs": [
    {
     "name": "stdout",
     "output_type": "stream",
     "text": [
      "Mounted at /content/drive\n"
     ]
    }
   ],
   "source": [
    "# CONECTAR CON DRIVE\n",
    "from google.colab import drive\n",
    "drive.mount('/content/drive')"
   ]
  },
  {
   "cell_type": "code",
   "execution_count": 3,
   "id": "0wh5WsvqWWHj",
   "metadata": {
    "executionInfo": {
     "elapsed": 1260,
     "status": "ok",
     "timestamp": 1747097505186,
     "user": {
      "displayName": "MATEO TORO LOPEZ",
      "userId": "14024993212465818370"
     },
     "user_tz": 300
    },
    "id": "0wh5WsvqWWHj"
   },
   "outputs": [],
   "source": [
    "import os\n",
    "import sys\n",
    "path ='/content/drive/MyDrive/cod/LEA3_Marketing'\n",
    "os.chdir(path) ## volver la carpeta de repositorio directorio de trabajo\n",
    "sys.path.append(path) ## agregarla al path, para leer archivos propios como paquetes"
   ]
  },
  {
   "cell_type": "code",
   "execution_count": 6,
   "id": "db9d3e91",
   "metadata": {
    "executionInfo": {
     "elapsed": 28,
     "status": "ok",
     "timestamp": 1747097561375,
     "user": {
      "displayName": "MATEO TORO LOPEZ",
      "userId": "14024993212465818370"
     },
     "user_tz": 300
    },
    "id": "db9d3e91"
   },
   "outputs": [],
   "source": [
    "import numpy as np\n",
    "import pandas as pd\n",
    "import sqlite3 as sql\n",
    "import a_funciones as fn\n",
    "from sklearn.preprocessing import MinMaxScaler\n",
    "from ipywidgets import interact ## para análisis interactivo\n",
    "from sklearn import neighbors ### basado en contenido un solo producto consumido\n",
    "import joblib\n",
    "import ipywidgets as widgets\n",
    "from IPython.display import display\n",
    "\n",
    "# Para filtros colaborativos\n",
    "#!pip install lightfm\n",
    "\n",
    "from lightfm import LightFM\n",
    "from lightfm.data import Dataset\n",
    "from lightfm.evaluation import auc_score\n",
    "from sklearn.model_selection import train_test_split\n"
   ]
  },
  {
   "cell_type": "code",
   "execution_count": 8,
   "id": "I0CGW57UXM-N",
   "metadata": {
    "executionInfo": {
     "elapsed": 760,
     "status": "ok",
     "timestamp": 1747097575493,
     "user": {
      "displayName": "MATEO TORO LOPEZ",
      "userId": "14024993212465818370"
     },
     "user_tz": 300
    },
    "id": "I0CGW57UXM-N"
   },
   "outputs": [],
   "source": [
    "# CREAR CONEXIÓN CON LA BASE DE DATOS db_movies\n",
    "con = sql.connect('data/db_movies')\n",
    "\n",
    "# CREAR EL CURSOR\n",
    "cur = con.cursor() ## se crea el cursor, que es el otro tipo de conexión para ejecutar las consultas"
   ]
  },
  {
   "cell_type": "markdown",
   "id": "855ce5dc",
   "metadata": {
    "id": "855ce5dc"
   },
   "source": [
    "# <font color=4CBB17>**3. Sistema de recomendación basado en contenido KNN, con base en todo lo visto por el usuario**</font>"
   ]
  },
  {
   "cell_type": "code",
   "execution_count": 9,
   "id": "142fe211",
   "metadata": {
    "colab": {
     "base_uri": "https://localhost:8080/",
     "height": 482,
     "referenced_widgets": [
      "adf9d45dbd4349c0a714998d37231ef6",
      "4b5bb66088964d38bfb2fd11cc590b66",
      "f8fd37ea8c6344adbb0e67eee9d76c71",
      "7daa0d38eae147b482af1fc21c3cbec4",
      "40f41dacf70743f09755b616d237a8cc",
      "6ae5075c97514e908cc3cd7dcae7483f",
      "738f4034c17b4db9a7249eb60b1f9843"
     ]
    },
    "executionInfo": {
     "elapsed": 1280,
     "status": "ok",
     "timestamp": 1747097576775,
     "user": {
      "displayName": "MATEO TORO LOPEZ",
      "userId": "14024993212465818370"
     },
     "user_tz": 300
    },
    "id": "142fe211",
    "outputId": "c11c4380-83fa-40fb-95b4-41da31135a0d"
   },
   "outputs": [
    {
     "data": {
      "application/vnd.jupyter.widget-view+json": {
       "model_id": "adf9d45dbd4349c0a714998d37231ef6",
       "version_major": 2,
       "version_minor": 0
      },
      "text/plain": [
       "interactive(children=(Dropdown(description='Género:', layout=Layout(width='300px'), options=('Action', 'Advent…"
      ]
     },
     "metadata": {},
     "output_type": "display_data"
    },
    {
     "data": {
      "text/html": [
       "<div style=\"max-width:800px; border: 1px solid var(--colab-border-color);\"><style>\n",
       "      pre.function-repr-contents {\n",
       "        overflow-x: auto;\n",
       "        padding: 8px 12px;\n",
       "        max-height: 500px;\n",
       "      }\n",
       "\n",
       "      pre.function-repr-contents.function-repr-contents-collapsed {\n",
       "        cursor: pointer;\n",
       "        max-height: 100px;\n",
       "      }\n",
       "    </style>\n",
       "    <pre style=\"white-space: initial; background:\n",
       "         var(--colab-secondary-surface-color); padding: 8px 12px;\n",
       "         border-bottom: 1px solid var(--colab-border-color);\"><b>mostrar_recomendaciones</b><br/>def mostrar_recomendaciones(genero)</pre><pre class=\"function-repr-contents function-repr-contents-collapsed\" style=\"\"><a class=\"filepath\" style=\"display:none\" href=\"#\">/content/drive/MyDrive/cod/LEA3_Marketing/&lt;ipython-input-9-21e7d632524b&gt;</a>&lt;no docstring&gt;</pre></div>"
      ],
      "text/plain": [
       "<function __main__.mostrar_recomendaciones(genero)>"
      ]
     },
     "execution_count": 9,
     "metadata": {},
     "output_type": "execute_result"
    }
   ],
   "source": [
    "# Cargar todos los datos una sola vez desde full_ratings\n",
    "df_full = pd.read_sql('SELECT * FROM full_ratings', con)\n",
    "\n",
    "# Escalar variables númericas\n",
    "scaler = MinMaxScaler()\n",
    "df_full['movie_year'] = scaler.fit_transform(df_full[['movie_year']])\n",
    "df_full['movie_rating'] = scaler.fit_transform(df_full[['movie_rating']])\n",
    "\n",
    "# Seleccionar las columnas que que influiran en el modelo de vecinos cercanos\n",
    "feature_cols = df_full.drop(columns=['movie_id', 'movie_title', 'user_id']).columns\n",
    "\n",
    "# Excluir todas las columnas que no sean dummy de géneros (suponiendo que no son 'movie_id', 'user_id', etc.)\n",
    "columnas_excluir = {'movie_id', 'movie_title', 'user_id', 'movie_rating','movie_title','movie_year'}\n",
    "genre_cols = [col for col in df_full.columns if col not in columnas_excluir and df_full[col].dropna().isin([0, 1]).all()]\n",
    "\n",
    "# Dropdown interactivo con todos los géneros detectados\n",
    "dropdown_genero = widgets.Dropdown(\n",
    "    options=genre_cols,\n",
    "    description='Género:',\n",
    "    layout=widgets.Layout(width='300px')\n",
    ")\n",
    "\n",
    "def recomendar_con_genero(user_id, genero, n_recomendaciones=10):\n",
    "    ratings_user = df_full[df_full['user_id'] == user_id]\n",
    "\n",
    "    rated_ids = ratings_user['movie_id'].unique()\n",
    "    df_rated = ratings_user[feature_cols].copy()\n",
    "    df_rated['dummy'] = 1\n",
    "    perfil = df_rated.groupby('dummy').mean()\n",
    "\n",
    "    # Filtrar solo películas no vistas y que pertenezcan al género seleccionado\n",
    "    df_no_rated = df_full[(~df_full['movie_id'].isin(rated_ids)) & (df_full[genero] == 1)]\n",
    "    df_no_rated = df_no_rated.drop_duplicates('movie_id')\n",
    "    X_no_rated = df_no_rated[feature_cols]\n",
    "\n",
    "\n",
    "    # Modelo KNN\n",
    "    model = neighbors.NearestNeighbors(n_neighbors=n_recomendaciones, metric='cosine')\n",
    "    model.fit(X_no_rated)\n",
    "    dist, idx = model.kneighbors(perfil)\n",
    "\n",
    "    recs = df_no_rated.iloc[idx[0]][['movie_title', 'movie_id']].copy()\n",
    "    recs['similitud'] = 1 - dist[0] # Se usa similitud en ves de distancia, ya que es más diciente para el usuario\n",
    "    return recs.sort_values(by='similitud', ascending=False)\n",
    "\n",
    "def mostrar_recomendaciones(genero):\n",
    "    display(recomendar_con_genero(user_id=609, genero=genero))\n",
    "\n",
    "# Crear el widget interactivo\n",
    "widgets.interact(mostrar_recomendaciones, genero=dropdown_genero)\n"
   ]
  },
  {
   "cell_type": "markdown",
   "id": "576e78f1",
   "metadata": {
    "id": "576e78f1"
   },
   "source": [
    "# <font color=4CBB17>**4. Sistemas de recomendación basados en filtro colaborativo**</font>"
   ]
  },
  {
   "cell_type": "code",
   "execution_count": 10,
   "id": "0f2a1e2f",
   "metadata": {
    "executionInfo": {
     "elapsed": 1,
     "status": "ok",
     "timestamp": 1747097576778,
     "user": {
      "displayName": "MATEO TORO LOPEZ",
      "userId": "14024993212465818370"
     },
     "user_tz": 300
    },
    "id": "0f2a1e2f"
   },
   "outputs": [],
   "source": [
    "#instalar lightfm para sistema de recomendación de filtro colaborativo\n",
    "#!pip install lightfm"
   ]
  },
  {
   "cell_type": "code",
   "execution_count": 11,
   "id": "PFF143EJW-n8",
   "metadata": {
    "colab": {
     "base_uri": "https://localhost:8080/",
     "height": 565
    },
    "executionInfo": {
     "elapsed": 531,
     "status": "ok",
     "timestamp": 1747097577311,
     "user": {
      "displayName": "MATEO TORO LOPEZ",
      "userId": "14024993212465818370"
     },
     "user_tz": 300
    },
    "id": "PFF143EJW-n8",
    "outputId": "5cbfba9b-5bbf-478c-ed30-54e824cffbea"
   },
   "outputs": [
    {
     "data": {
      "application/vnd.google.colaboratory.intrinsic+json": {
       "type": "dataframe",
       "variable_name": "ratings"
      },
      "text/html": [
       "\n",
       "  <div id=\"df-0e3e658f-52cc-4cc4-ad33-113af31daa7f\" class=\"colab-df-container\">\n",
       "    <div>\n",
       "<style scoped>\n",
       "    .dataframe tbody tr th:only-of-type {\n",
       "        vertical-align: middle;\n",
       "    }\n",
       "\n",
       "    .dataframe tbody tr th {\n",
       "        vertical-align: top;\n",
       "    }\n",
       "\n",
       "    .dataframe thead th {\n",
       "        text-align: right;\n",
       "    }\n",
       "</style>\n",
       "<table border=\"1\" class=\"dataframe\">\n",
       "  <thead>\n",
       "    <tr style=\"text-align: right;\">\n",
       "      <th></th>\n",
       "      <th>movie_id</th>\n",
       "      <th>user_id</th>\n",
       "      <th>movie_rating</th>\n",
       "      <th>Action</th>\n",
       "      <th>Adventure</th>\n",
       "      <th>Animation</th>\n",
       "      <th>Children</th>\n",
       "      <th>Comedy</th>\n",
       "      <th>Crime</th>\n",
       "      <th>Documentary</th>\n",
       "      <th>...</th>\n",
       "      <th>IMAX</th>\n",
       "      <th>Musical</th>\n",
       "      <th>Mystery</th>\n",
       "      <th>Romance</th>\n",
       "      <th>Sci-Fi</th>\n",
       "      <th>Thriller</th>\n",
       "      <th>War</th>\n",
       "      <th>Western</th>\n",
       "      <th>movie_title</th>\n",
       "      <th>movie_year</th>\n",
       "    </tr>\n",
       "  </thead>\n",
       "  <tbody>\n",
       "    <tr>\n",
       "      <th>0</th>\n",
       "      <td>1</td>\n",
       "      <td>1</td>\n",
       "      <td>4.0</td>\n",
       "      <td>0</td>\n",
       "      <td>1</td>\n",
       "      <td>1</td>\n",
       "      <td>1</td>\n",
       "      <td>1</td>\n",
       "      <td>0</td>\n",
       "      <td>0</td>\n",
       "      <td>...</td>\n",
       "      <td>0</td>\n",
       "      <td>0</td>\n",
       "      <td>0</td>\n",
       "      <td>0</td>\n",
       "      <td>0</td>\n",
       "      <td>0</td>\n",
       "      <td>0</td>\n",
       "      <td>0</td>\n",
       "      <td>Toy Story</td>\n",
       "      <td>1995</td>\n",
       "    </tr>\n",
       "    <tr>\n",
       "      <th>1</th>\n",
       "      <td>3</td>\n",
       "      <td>1</td>\n",
       "      <td>4.0</td>\n",
       "      <td>0</td>\n",
       "      <td>0</td>\n",
       "      <td>0</td>\n",
       "      <td>0</td>\n",
       "      <td>1</td>\n",
       "      <td>0</td>\n",
       "      <td>0</td>\n",
       "      <td>...</td>\n",
       "      <td>0</td>\n",
       "      <td>0</td>\n",
       "      <td>0</td>\n",
       "      <td>1</td>\n",
       "      <td>0</td>\n",
       "      <td>0</td>\n",
       "      <td>0</td>\n",
       "      <td>0</td>\n",
       "      <td>Grumpier Old Men</td>\n",
       "      <td>1995</td>\n",
       "    </tr>\n",
       "    <tr>\n",
       "      <th>2</th>\n",
       "      <td>6</td>\n",
       "      <td>1</td>\n",
       "      <td>4.0</td>\n",
       "      <td>1</td>\n",
       "      <td>0</td>\n",
       "      <td>0</td>\n",
       "      <td>0</td>\n",
       "      <td>0</td>\n",
       "      <td>1</td>\n",
       "      <td>0</td>\n",
       "      <td>...</td>\n",
       "      <td>0</td>\n",
       "      <td>0</td>\n",
       "      <td>0</td>\n",
       "      <td>0</td>\n",
       "      <td>0</td>\n",
       "      <td>1</td>\n",
       "      <td>0</td>\n",
       "      <td>0</td>\n",
       "      <td>Heat</td>\n",
       "      <td>1995</td>\n",
       "    </tr>\n",
       "    <tr>\n",
       "      <th>3</th>\n",
       "      <td>47</td>\n",
       "      <td>1</td>\n",
       "      <td>5.0</td>\n",
       "      <td>0</td>\n",
       "      <td>0</td>\n",
       "      <td>0</td>\n",
       "      <td>0</td>\n",
       "      <td>0</td>\n",
       "      <td>0</td>\n",
       "      <td>0</td>\n",
       "      <td>...</td>\n",
       "      <td>0</td>\n",
       "      <td>0</td>\n",
       "      <td>1</td>\n",
       "      <td>0</td>\n",
       "      <td>0</td>\n",
       "      <td>1</td>\n",
       "      <td>0</td>\n",
       "      <td>0</td>\n",
       "      <td>Seven (a.k.a. Se7en)</td>\n",
       "      <td>1995</td>\n",
       "    </tr>\n",
       "    <tr>\n",
       "      <th>4</th>\n",
       "      <td>50</td>\n",
       "      <td>1</td>\n",
       "      <td>5.0</td>\n",
       "      <td>0</td>\n",
       "      <td>0</td>\n",
       "      <td>0</td>\n",
       "      <td>0</td>\n",
       "      <td>0</td>\n",
       "      <td>1</td>\n",
       "      <td>0</td>\n",
       "      <td>...</td>\n",
       "      <td>0</td>\n",
       "      <td>0</td>\n",
       "      <td>1</td>\n",
       "      <td>0</td>\n",
       "      <td>0</td>\n",
       "      <td>1</td>\n",
       "      <td>0</td>\n",
       "      <td>0</td>\n",
       "      <td>Usual Suspects, The</td>\n",
       "      <td>1995</td>\n",
       "    </tr>\n",
       "    <tr>\n",
       "      <th>...</th>\n",
       "      <td>...</td>\n",
       "      <td>...</td>\n",
       "      <td>...</td>\n",
       "      <td>...</td>\n",
       "      <td>...</td>\n",
       "      <td>...</td>\n",
       "      <td>...</td>\n",
       "      <td>...</td>\n",
       "      <td>...</td>\n",
       "      <td>...</td>\n",
       "      <td>...</td>\n",
       "      <td>...</td>\n",
       "      <td>...</td>\n",
       "      <td>...</td>\n",
       "      <td>...</td>\n",
       "      <td>...</td>\n",
       "      <td>...</td>\n",
       "      <td>...</td>\n",
       "      <td>...</td>\n",
       "      <td>...</td>\n",
       "      <td>...</td>\n",
       "    </tr>\n",
       "    <tr>\n",
       "      <th>39693</th>\n",
       "      <td>592</td>\n",
       "      <td>609</td>\n",
       "      <td>3.0</td>\n",
       "      <td>1</td>\n",
       "      <td>0</td>\n",
       "      <td>0</td>\n",
       "      <td>0</td>\n",
       "      <td>0</td>\n",
       "      <td>1</td>\n",
       "      <td>0</td>\n",
       "      <td>...</td>\n",
       "      <td>0</td>\n",
       "      <td>0</td>\n",
       "      <td>0</td>\n",
       "      <td>0</td>\n",
       "      <td>0</td>\n",
       "      <td>1</td>\n",
       "      <td>0</td>\n",
       "      <td>0</td>\n",
       "      <td>Batman</td>\n",
       "      <td>1989</td>\n",
       "    </tr>\n",
       "    <tr>\n",
       "      <th>39694</th>\n",
       "      <td>742</td>\n",
       "      <td>609</td>\n",
       "      <td>3.0</td>\n",
       "      <td>0</td>\n",
       "      <td>0</td>\n",
       "      <td>0</td>\n",
       "      <td>0</td>\n",
       "      <td>0</td>\n",
       "      <td>0</td>\n",
       "      <td>0</td>\n",
       "      <td>...</td>\n",
       "      <td>0</td>\n",
       "      <td>0</td>\n",
       "      <td>0</td>\n",
       "      <td>0</td>\n",
       "      <td>0</td>\n",
       "      <td>1</td>\n",
       "      <td>0</td>\n",
       "      <td>0</td>\n",
       "      <td>Thinner</td>\n",
       "      <td>1996</td>\n",
       "    </tr>\n",
       "    <tr>\n",
       "      <th>39695</th>\n",
       "      <td>786</td>\n",
       "      <td>609</td>\n",
       "      <td>3.0</td>\n",
       "      <td>1</td>\n",
       "      <td>0</td>\n",
       "      <td>0</td>\n",
       "      <td>0</td>\n",
       "      <td>0</td>\n",
       "      <td>0</td>\n",
       "      <td>0</td>\n",
       "      <td>...</td>\n",
       "      <td>0</td>\n",
       "      <td>0</td>\n",
       "      <td>0</td>\n",
       "      <td>0</td>\n",
       "      <td>0</td>\n",
       "      <td>1</td>\n",
       "      <td>0</td>\n",
       "      <td>0</td>\n",
       "      <td>Eraser</td>\n",
       "      <td>1996</td>\n",
       "    </tr>\n",
       "    <tr>\n",
       "      <th>39696</th>\n",
       "      <td>892</td>\n",
       "      <td>609</td>\n",
       "      <td>3.0</td>\n",
       "      <td>0</td>\n",
       "      <td>0</td>\n",
       "      <td>0</td>\n",
       "      <td>0</td>\n",
       "      <td>1</td>\n",
       "      <td>0</td>\n",
       "      <td>0</td>\n",
       "      <td>...</td>\n",
       "      <td>0</td>\n",
       "      <td>0</td>\n",
       "      <td>0</td>\n",
       "      <td>1</td>\n",
       "      <td>0</td>\n",
       "      <td>0</td>\n",
       "      <td>0</td>\n",
       "      <td>0</td>\n",
       "      <td>Twelfth Night</td>\n",
       "      <td>1996</td>\n",
       "    </tr>\n",
       "    <tr>\n",
       "      <th>39697</th>\n",
       "      <td>1059</td>\n",
       "      <td>609</td>\n",
       "      <td>3.0</td>\n",
       "      <td>0</td>\n",
       "      <td>0</td>\n",
       "      <td>0</td>\n",
       "      <td>0</td>\n",
       "      <td>0</td>\n",
       "      <td>0</td>\n",
       "      <td>0</td>\n",
       "      <td>...</td>\n",
       "      <td>0</td>\n",
       "      <td>0</td>\n",
       "      <td>0</td>\n",
       "      <td>1</td>\n",
       "      <td>0</td>\n",
       "      <td>0</td>\n",
       "      <td>0</td>\n",
       "      <td>0</td>\n",
       "      <td>William Shakespeare's Romeo + Juliet</td>\n",
       "      <td>1996</td>\n",
       "    </tr>\n",
       "  </tbody>\n",
       "</table>\n",
       "<p>39698 rows × 24 columns</p>\n",
       "</div>\n",
       "    <div class=\"colab-df-buttons\">\n",
       "\n",
       "  <div class=\"colab-df-container\">\n",
       "    <button class=\"colab-df-convert\" onclick=\"convertToInteractive('df-0e3e658f-52cc-4cc4-ad33-113af31daa7f')\"\n",
       "            title=\"Convert this dataframe to an interactive table.\"\n",
       "            style=\"display:none;\">\n",
       "\n",
       "  <svg xmlns=\"http://www.w3.org/2000/svg\" height=\"24px\" viewBox=\"0 -960 960 960\">\n",
       "    <path d=\"M120-120v-720h720v720H120Zm60-500h600v-160H180v160Zm220 220h160v-160H400v160Zm0 220h160v-160H400v160ZM180-400h160v-160H180v160Zm440 0h160v-160H620v160ZM180-180h160v-160H180v160Zm440 0h160v-160H620v160Z\"/>\n",
       "  </svg>\n",
       "    </button>\n",
       "\n",
       "  <style>\n",
       "    .colab-df-container {\n",
       "      display:flex;\n",
       "      gap: 12px;\n",
       "    }\n",
       "\n",
       "    .colab-df-convert {\n",
       "      background-color: #E8F0FE;\n",
       "      border: none;\n",
       "      border-radius: 50%;\n",
       "      cursor: pointer;\n",
       "      display: none;\n",
       "      fill: #1967D2;\n",
       "      height: 32px;\n",
       "      padding: 0 0 0 0;\n",
       "      width: 32px;\n",
       "    }\n",
       "\n",
       "    .colab-df-convert:hover {\n",
       "      background-color: #E2EBFA;\n",
       "      box-shadow: 0px 1px 2px rgba(60, 64, 67, 0.3), 0px 1px 3px 1px rgba(60, 64, 67, 0.15);\n",
       "      fill: #174EA6;\n",
       "    }\n",
       "\n",
       "    .colab-df-buttons div {\n",
       "      margin-bottom: 4px;\n",
       "    }\n",
       "\n",
       "    [theme=dark] .colab-df-convert {\n",
       "      background-color: #3B4455;\n",
       "      fill: #D2E3FC;\n",
       "    }\n",
       "\n",
       "    [theme=dark] .colab-df-convert:hover {\n",
       "      background-color: #434B5C;\n",
       "      box-shadow: 0px 1px 3px 1px rgba(0, 0, 0, 0.15);\n",
       "      filter: drop-shadow(0px 1px 2px rgba(0, 0, 0, 0.3));\n",
       "      fill: #FFFFFF;\n",
       "    }\n",
       "  </style>\n",
       "\n",
       "    <script>\n",
       "      const buttonEl =\n",
       "        document.querySelector('#df-0e3e658f-52cc-4cc4-ad33-113af31daa7f button.colab-df-convert');\n",
       "      buttonEl.style.display =\n",
       "        google.colab.kernel.accessAllowed ? 'block' : 'none';\n",
       "\n",
       "      async function convertToInteractive(key) {\n",
       "        const element = document.querySelector('#df-0e3e658f-52cc-4cc4-ad33-113af31daa7f');\n",
       "        const dataTable =\n",
       "          await google.colab.kernel.invokeFunction('convertToInteractive',\n",
       "                                                    [key], {});\n",
       "        if (!dataTable) return;\n",
       "\n",
       "        const docLinkHtml = 'Like what you see? Visit the ' +\n",
       "          '<a target=\"_blank\" href=https://colab.research.google.com/notebooks/data_table.ipynb>data table notebook</a>'\n",
       "          + ' to learn more about interactive tables.';\n",
       "        element.innerHTML = '';\n",
       "        dataTable['output_type'] = 'display_data';\n",
       "        await google.colab.output.renderOutput(dataTable, element);\n",
       "        const docLink = document.createElement('div');\n",
       "        docLink.innerHTML = docLinkHtml;\n",
       "        element.appendChild(docLink);\n",
       "      }\n",
       "    </script>\n",
       "  </div>\n",
       "\n",
       "\n",
       "    <div id=\"df-e58aa7a7-bf85-4845-805a-8bea630b7922\">\n",
       "      <button class=\"colab-df-quickchart\" onclick=\"quickchart('df-e58aa7a7-bf85-4845-805a-8bea630b7922')\"\n",
       "                title=\"Suggest charts\"\n",
       "                style=\"display:none;\">\n",
       "\n",
       "<svg xmlns=\"http://www.w3.org/2000/svg\" height=\"24px\"viewBox=\"0 0 24 24\"\n",
       "     width=\"24px\">\n",
       "    <g>\n",
       "        <path d=\"M19 3H5c-1.1 0-2 .9-2 2v14c0 1.1.9 2 2 2h14c1.1 0 2-.9 2-2V5c0-1.1-.9-2-2-2zM9 17H7v-7h2v7zm4 0h-2V7h2v10zm4 0h-2v-4h2v4z\"/>\n",
       "    </g>\n",
       "</svg>\n",
       "      </button>\n",
       "\n",
       "<style>\n",
       "  .colab-df-quickchart {\n",
       "      --bg-color: #E8F0FE;\n",
       "      --fill-color: #1967D2;\n",
       "      --hover-bg-color: #E2EBFA;\n",
       "      --hover-fill-color: #174EA6;\n",
       "      --disabled-fill-color: #AAA;\n",
       "      --disabled-bg-color: #DDD;\n",
       "  }\n",
       "\n",
       "  [theme=dark] .colab-df-quickchart {\n",
       "      --bg-color: #3B4455;\n",
       "      --fill-color: #D2E3FC;\n",
       "      --hover-bg-color: #434B5C;\n",
       "      --hover-fill-color: #FFFFFF;\n",
       "      --disabled-bg-color: #3B4455;\n",
       "      --disabled-fill-color: #666;\n",
       "  }\n",
       "\n",
       "  .colab-df-quickchart {\n",
       "    background-color: var(--bg-color);\n",
       "    border: none;\n",
       "    border-radius: 50%;\n",
       "    cursor: pointer;\n",
       "    display: none;\n",
       "    fill: var(--fill-color);\n",
       "    height: 32px;\n",
       "    padding: 0;\n",
       "    width: 32px;\n",
       "  }\n",
       "\n",
       "  .colab-df-quickchart:hover {\n",
       "    background-color: var(--hover-bg-color);\n",
       "    box-shadow: 0 1px 2px rgba(60, 64, 67, 0.3), 0 1px 3px 1px rgba(60, 64, 67, 0.15);\n",
       "    fill: var(--button-hover-fill-color);\n",
       "  }\n",
       "\n",
       "  .colab-df-quickchart-complete:disabled,\n",
       "  .colab-df-quickchart-complete:disabled:hover {\n",
       "    background-color: var(--disabled-bg-color);\n",
       "    fill: var(--disabled-fill-color);\n",
       "    box-shadow: none;\n",
       "  }\n",
       "\n",
       "  .colab-df-spinner {\n",
       "    border: 2px solid var(--fill-color);\n",
       "    border-color: transparent;\n",
       "    border-bottom-color: var(--fill-color);\n",
       "    animation:\n",
       "      spin 1s steps(1) infinite;\n",
       "  }\n",
       "\n",
       "  @keyframes spin {\n",
       "    0% {\n",
       "      border-color: transparent;\n",
       "      border-bottom-color: var(--fill-color);\n",
       "      border-left-color: var(--fill-color);\n",
       "    }\n",
       "    20% {\n",
       "      border-color: transparent;\n",
       "      border-left-color: var(--fill-color);\n",
       "      border-top-color: var(--fill-color);\n",
       "    }\n",
       "    30% {\n",
       "      border-color: transparent;\n",
       "      border-left-color: var(--fill-color);\n",
       "      border-top-color: var(--fill-color);\n",
       "      border-right-color: var(--fill-color);\n",
       "    }\n",
       "    40% {\n",
       "      border-color: transparent;\n",
       "      border-right-color: var(--fill-color);\n",
       "      border-top-color: var(--fill-color);\n",
       "    }\n",
       "    60% {\n",
       "      border-color: transparent;\n",
       "      border-right-color: var(--fill-color);\n",
       "    }\n",
       "    80% {\n",
       "      border-color: transparent;\n",
       "      border-right-color: var(--fill-color);\n",
       "      border-bottom-color: var(--fill-color);\n",
       "    }\n",
       "    90% {\n",
       "      border-color: transparent;\n",
       "      border-bottom-color: var(--fill-color);\n",
       "    }\n",
       "  }\n",
       "</style>\n",
       "\n",
       "      <script>\n",
       "        async function quickchart(key) {\n",
       "          const quickchartButtonEl =\n",
       "            document.querySelector('#' + key + ' button');\n",
       "          quickchartButtonEl.disabled = true;  // To prevent multiple clicks.\n",
       "          quickchartButtonEl.classList.add('colab-df-spinner');\n",
       "          try {\n",
       "            const charts = await google.colab.kernel.invokeFunction(\n",
       "                'suggestCharts', [key], {});\n",
       "          } catch (error) {\n",
       "            console.error('Error during call to suggestCharts:', error);\n",
       "          }\n",
       "          quickchartButtonEl.classList.remove('colab-df-spinner');\n",
       "          quickchartButtonEl.classList.add('colab-df-quickchart-complete');\n",
       "        }\n",
       "        (() => {\n",
       "          let quickchartButtonEl =\n",
       "            document.querySelector('#df-e58aa7a7-bf85-4845-805a-8bea630b7922 button');\n",
       "          quickchartButtonEl.style.display =\n",
       "            google.colab.kernel.accessAllowed ? 'block' : 'none';\n",
       "        })();\n",
       "      </script>\n",
       "    </div>\n",
       "\n",
       "  <div id=\"id_2f2784f2-5bf6-41bc-96c7-96d582ac5ccb\">\n",
       "    <style>\n",
       "      .colab-df-generate {\n",
       "        background-color: #E8F0FE;\n",
       "        border: none;\n",
       "        border-radius: 50%;\n",
       "        cursor: pointer;\n",
       "        display: none;\n",
       "        fill: #1967D2;\n",
       "        height: 32px;\n",
       "        padding: 0 0 0 0;\n",
       "        width: 32px;\n",
       "      }\n",
       "\n",
       "      .colab-df-generate:hover {\n",
       "        background-color: #E2EBFA;\n",
       "        box-shadow: 0px 1px 2px rgba(60, 64, 67, 0.3), 0px 1px 3px 1px rgba(60, 64, 67, 0.15);\n",
       "        fill: #174EA6;\n",
       "      }\n",
       "\n",
       "      [theme=dark] .colab-df-generate {\n",
       "        background-color: #3B4455;\n",
       "        fill: #D2E3FC;\n",
       "      }\n",
       "\n",
       "      [theme=dark] .colab-df-generate:hover {\n",
       "        background-color: #434B5C;\n",
       "        box-shadow: 0px 1px 3px 1px rgba(0, 0, 0, 0.15);\n",
       "        filter: drop-shadow(0px 1px 2px rgba(0, 0, 0, 0.3));\n",
       "        fill: #FFFFFF;\n",
       "      }\n",
       "    </style>\n",
       "    <button class=\"colab-df-generate\" onclick=\"generateWithVariable('ratings')\"\n",
       "            title=\"Generate code using this dataframe.\"\n",
       "            style=\"display:none;\">\n",
       "\n",
       "  <svg xmlns=\"http://www.w3.org/2000/svg\" height=\"24px\"viewBox=\"0 0 24 24\"\n",
       "       width=\"24px\">\n",
       "    <path d=\"M7,19H8.4L18.45,9,17,7.55,7,17.6ZM5,21V16.75L18.45,3.32a2,2,0,0,1,2.83,0l1.4,1.43a1.91,1.91,0,0,1,.58,1.4,1.91,1.91,0,0,1-.58,1.4L9.25,21ZM18.45,9,17,7.55Zm-12,3A5.31,5.31,0,0,0,4.9,8.1,5.31,5.31,0,0,0,1,6.5,5.31,5.31,0,0,0,4.9,4.9,5.31,5.31,0,0,0,6.5,1,5.31,5.31,0,0,0,8.1,4.9,5.31,5.31,0,0,0,12,6.5,5.46,5.46,0,0,0,6.5,12Z\"/>\n",
       "  </svg>\n",
       "    </button>\n",
       "    <script>\n",
       "      (() => {\n",
       "      const buttonEl =\n",
       "        document.querySelector('#id_2f2784f2-5bf6-41bc-96c7-96d582ac5ccb button.colab-df-generate');\n",
       "      buttonEl.style.display =\n",
       "        google.colab.kernel.accessAllowed ? 'block' : 'none';\n",
       "\n",
       "      buttonEl.onclick = () => {\n",
       "        google.colab.notebook.generateWithVariable('ratings');\n",
       "      }\n",
       "      })();\n",
       "    </script>\n",
       "  </div>\n",
       "\n",
       "    </div>\n",
       "  </div>\n"
      ],
      "text/plain": [
       "       movie_id  user_id  movie_rating  Action  Adventure  Animation  \\\n",
       "0             1        1           4.0       0          1          1   \n",
       "1             3        1           4.0       0          0          0   \n",
       "2             6        1           4.0       1          0          0   \n",
       "3            47        1           5.0       0          0          0   \n",
       "4            50        1           5.0       0          0          0   \n",
       "...         ...      ...           ...     ...        ...        ...   \n",
       "39693       592      609           3.0       1          0          0   \n",
       "39694       742      609           3.0       0          0          0   \n",
       "39695       786      609           3.0       1          0          0   \n",
       "39696       892      609           3.0       0          0          0   \n",
       "39697      1059      609           3.0       0          0          0   \n",
       "\n",
       "       Children  Comedy  Crime  Documentary  ...  IMAX  Musical  Mystery  \\\n",
       "0             1       1      0            0  ...     0        0        0   \n",
       "1             0       1      0            0  ...     0        0        0   \n",
       "2             0       0      1            0  ...     0        0        0   \n",
       "3             0       0      0            0  ...     0        0        1   \n",
       "4             0       0      1            0  ...     0        0        1   \n",
       "...         ...     ...    ...          ...  ...   ...      ...      ...   \n",
       "39693         0       0      1            0  ...     0        0        0   \n",
       "39694         0       0      0            0  ...     0        0        0   \n",
       "39695         0       0      0            0  ...     0        0        0   \n",
       "39696         0       1      0            0  ...     0        0        0   \n",
       "39697         0       0      0            0  ...     0        0        0   \n",
       "\n",
       "       Romance  Sci-Fi  Thriller  War  Western  \\\n",
       "0            0       0         0    0        0   \n",
       "1            1       0         0    0        0   \n",
       "2            0       0         1    0        0   \n",
       "3            0       0         1    0        0   \n",
       "4            0       0         1    0        0   \n",
       "...        ...     ...       ...  ...      ...   \n",
       "39693        0       0         1    0        0   \n",
       "39694        0       0         1    0        0   \n",
       "39695        0       0         1    0        0   \n",
       "39696        1       0         0    0        0   \n",
       "39697        1       0         0    0        0   \n",
       "\n",
       "                                movie_title  movie_year  \n",
       "0                                 Toy Story        1995  \n",
       "1                          Grumpier Old Men        1995  \n",
       "2                                      Heat        1995  \n",
       "3                      Seven (a.k.a. Se7en)        1995  \n",
       "4                       Usual Suspects, The        1995  \n",
       "...                                     ...         ...  \n",
       "39693                                Batman        1989  \n",
       "39694                               Thinner        1996  \n",
       "39695                                Eraser        1996  \n",
       "39696                         Twelfth Night        1996  \n",
       "39697  William Shakespeare's Romeo + Juliet        1996  \n",
       "\n",
       "[39698 rows x 24 columns]"
      ]
     },
     "execution_count": 11,
     "metadata": {},
     "output_type": "execute_result"
    }
   ],
   "source": [
    "ratings = pd.read_sql('SELECT * FROM full_ratings ', con)\n",
    "ratings"
   ]
  },
  {
   "cell_type": "code",
   "execution_count": 12,
   "id": "GHON8tjHXfP3",
   "metadata": {
    "executionInfo": {
     "elapsed": 32,
     "status": "ok",
     "timestamp": 1747097577355,
     "user": {
      "displayName": "MATEO TORO LOPEZ",
      "userId": "14024993212465818370"
     },
     "user_tz": 300
    },
    "id": "GHON8tjHXfP3"
   },
   "outputs": [],
   "source": [
    "#Crear data set en formato lightfm, primero lista de usuarios unicos y items únicos\n",
    "dataset_train = Dataset()\n",
    "dataset_test = Dataset()\n",
    "\n",
    "all_unique_users = ratings['user_id'].unique()\n",
    "all_unique_items = ratings['movie_id'].unique()\n",
    "\n",
    "dataset_train.fit(users=all_unique_users, items=all_unique_items)\n",
    "dataset_test.fit(users=all_unique_users, items=all_unique_items)"
   ]
  },
  {
   "cell_type": "code",
   "execution_count": 13,
   "id": "4504619c",
   "metadata": {
    "colab": {
     "base_uri": "https://localhost:8080/"
    },
    "executionInfo": {
     "elapsed": 12,
     "status": "ok",
     "timestamp": 1747097577356,
     "user": {
      "displayName": "MATEO TORO LOPEZ",
      "userId": "14024993212465818370"
     },
     "user_tz": 300
    },
    "id": "4504619c",
    "outputId": "a0471c3e-bf09-4bbb-feaf-534f6093b58f"
   },
   "outputs": [
    {
     "name": "stdout",
     "output_type": "stream",
     "text": [
      "[(526, 2250)]\n",
      "526 2250\n"
     ]
    }
   ],
   "source": [
    "## verificar que el data set creado tenga los mismos registros que base original\n",
    "cur.execute('SELECT count(distinct user_id), count (distinct movie_id) FROM full_ratings ')\n",
    "print(cur.fetchall())\n",
    "\n",
    "# Se compara la vbase de datos original con la de dataset train\n",
    "num_users, num_items = dataset_train.interactions_shape()\n",
    "\n",
    "print(num_users, num_items)\n"
   ]
  },
  {
   "cell_type": "code",
   "execution_count": 14,
   "id": "49315059",
   "metadata": {
    "colab": {
     "base_uri": "https://localhost:8080/"
    },
    "executionInfo": {
     "elapsed": 2156,
     "status": "ok",
     "timestamp": 1747097579509,
     "user": {
      "displayName": "MATEO TORO LOPEZ",
      "userId": "14024993212465818370"
     },
     "user_tz": 300
    },
    "id": "49315059",
    "outputId": "76037246-950e-4ba4-b91b-b07f7be53d93"
   },
   "outputs": [
    {
     "name": "stdout",
     "output_type": "stream",
     "text": [
      "Shape of Interactions Matrix: (526, 2250)\n",
      "Shape of Weights Matrix: (526, 2250)\n",
      "Shape of Interactions Matrix: (526, 2250)\n",
      "Shape of Weights Matrix: (526, 2250)\n"
     ]
    }
   ],
   "source": [
    "# Separar tarin y test\n",
    "train_df, test_df = train_test_split(ratings, test_size=0.2, random_state=123)\n",
    "\n",
    "# Para trabajar con el paquete light FM, se deben crear datos que crean consecutivos para cada usuario e item\n",
    "\n",
    "train_interactions_list = [(row['user_id'], row['movie_id'], row['movie_rating']) for index, row in train_df.iterrows()]\n",
    "\n",
    "train_interactions, train_weights = dataset_train.build_interactions(train_interactions_list)\n",
    "\n",
    "test_interactions_list = [(row['user_id'], row['movie_id'], row['movie_rating']) for index, row in test_df.iterrows()]\n",
    "test_interactions, test_weights = dataset_test.build_interactions(test_interactions_list)\n",
    "\n",
    "print(f\"Shape of Interactions Matrix: {train_interactions.shape}\")\n",
    "print(f\"Shape of Weights Matrix: {train_weights.shape}\")\n",
    "print(f\"Shape of Interactions Matrix: {test_interactions.shape}\")\n",
    "print(f\"Shape of Weights Matrix: {test_weights.shape}\")"
   ]
  },
  {
   "cell_type": "code",
   "execution_count": 15,
   "id": "5250f661",
   "metadata": {
    "colab": {
     "base_uri": "https://localhost:8080/",
     "height": 55
    },
    "executionInfo": {
     "elapsed": 40,
     "status": "ok",
     "timestamp": 1747097579551,
     "user": {
      "displayName": "MATEO TORO LOPEZ",
      "userId": "14024993212465818370"
     },
     "user_tz": 300
    },
    "id": "5250f661",
    "outputId": "52875062-3512-4dda-e68d-dbac44d5c9f2"
   },
   "outputs": [
    {
     "data": {
      "application/vnd.google.colaboratory.intrinsic+json": {
       "type": "string"
      },
      "text/plain": [
       "'train_int_array=train_interactions.toarray()\\ntrain_weights_array=train_weights.toarray()\\n\\ntest_int_array=test_interactions.toarray()\\ntest_weights_array=test_weights.toarray()\\n\\nprint(train_int_array)\\nprint(test_int_array)\\n\\nprint(train_weights_array)\\nprint(test_weights_array)'"
      ]
     },
     "execution_count": 15,
     "metadata": {},
     "output_type": "execute_result"
    }
   ],
   "source": [
    "#Este código es de verificación para mirar los datos cómo se estructuran\n",
    "'''train_int_array=train_interactions.toarray()\n",
    "train_weights_array=train_weights.toarray()\n",
    "\n",
    "test_int_array=test_interactions.toarray()\n",
    "test_weights_array=test_weights.toarray()\n",
    "\n",
    "print(train_int_array)\n",
    "print(test_int_array)\n",
    "\n",
    "print(train_weights_array)\n",
    "print(test_weights_array)'''"
   ]
  },
  {
   "cell_type": "code",
   "execution_count": 16,
   "id": "aec02568",
   "metadata": {
    "colab": {
     "base_uri": "https://localhost:8080/"
    },
    "executionInfo": {
     "elapsed": 729,
     "status": "ok",
     "timestamp": 1747097580273,
     "user": {
      "displayName": "MATEO TORO LOPEZ",
      "userId": "14024993212465818370"
     },
     "user_tz": 300
    },
    "id": "aec02568",
    "outputId": "64718134-a7ea-48e7-ddd7-46313e2366ac"
   },
   "outputs": [
    {
     "name": "stderr",
     "output_type": "stream",
     "text": [
      "Epoch: 100%|██████████| 10/10 [00:00<00:00, 39.64it/s]\n"
     ]
    },
    {
     "name": "stdout",
     "output_type": "stream",
     "text": [
      "AUC: train 0.81, test 0.79.\n"
     ]
    }
   ],
   "source": [
    "import time\n",
    "\n",
    "# Ajuste manual del modelo\n",
    "loss_model='logistic'  ## 'logistic', 'bpr', 'warp', 'warp-kos': este último solo sirve para implicitas\n",
    "\n",
    "model=LightFM(loss=loss_model, random_state=123)\n",
    "model.fit(train_interactions, epochs=10, verbose=True, sample_weight=train_weights)\n",
    "\n",
    "# AUC por usuario\n",
    "train_auc = auc_score(model, train_interactions)\n",
    "test_auc = auc_score(model, test_interactions)\n",
    "\n",
    "print('AUC: train %.2f, test %.2f.' % (train_auc.mean(), test_auc.mean()))"
   ]
  },
  {
   "cell_type": "code",
   "execution_count": 19,
   "id": "X0tw6mtasqoP",
   "metadata": {
    "colab": {
     "base_uri": "https://localhost:8080/"
    },
    "executionInfo": {
     "elapsed": 5234,
     "status": "ok",
     "timestamp": 1747097591304,
     "user": {
      "displayName": "MATEO TORO LOPEZ",
      "userId": "14024993212465818370"
     },
     "user_tz": 300
    },
    "id": "X0tw6mtasqoP",
    "outputId": "2b25020f-8af1-4662-b690-592fae8c5c79"
   },
   "outputs": [
    {
     "name": "stdout",
     "output_type": "stream",
     "text": [
      "\u001b[?25l   \u001b[90m━━━━━━━━━━━━━━━━━━━━━━━━━━━━━━━━━━━━━━━━\u001b[0m \u001b[32m0.0/386.6 kB\u001b[0m \u001b[31m?\u001b[0m eta \u001b[36m-:--:--\u001b[0m\r",
      "\u001b[2K   \u001b[91m━━━━━━━━━━━━━━━━━━━━━━━━━━━\u001b[0m\u001b[91m╸\u001b[0m\u001b[90m━━━━━━━━━━━━\u001b[0m \u001b[32m266.2/386.6 kB\u001b[0m \u001b[31m8.8 MB/s\u001b[0m eta \u001b[36m0:00:01\u001b[0m\r",
      "\u001b[2K   \u001b[90m━━━━━━━━━━━━━━━━━━━━━━━━━━━━━━━━━━━━━━━━\u001b[0m \u001b[32m386.6/386.6 kB\u001b[0m \u001b[31m7.6 MB/s\u001b[0m eta \u001b[36m0:00:00\u001b[0m\n",
      "\u001b[?25h\u001b[?25l   \u001b[90m━━━━━━━━━━━━━━━━━━━━━━━━━━━━━━━━━━━━━━━━\u001b[0m \u001b[32m0.0/231.9 kB\u001b[0m \u001b[31m?\u001b[0m eta \u001b[36m-:--:--\u001b[0m\r",
      "\u001b[2K   \u001b[90m━━━━━━━━━━━━━━━━━━━━━━━━━━━━━━━━━━━━━━━━\u001b[0m \u001b[32m231.9/231.9 kB\u001b[0m \u001b[31m16.7 MB/s\u001b[0m eta \u001b[36m0:00:00\u001b[0m\n",
      "\u001b[?25h"
     ]
    }
   ],
   "source": [
    "!pip install --quiet optuna"
   ]
  },
  {
   "cell_type": "code",
   "execution_count": null,
   "id": "0402e03c",
   "metadata": {
    "colab": {
     "base_uri": "https://localhost:8080/"
    },
    "id": "0402e03c",
    "outputId": "87bd0840-55e7-48b1-9bae-fcdb48b8f2e3"
   },
   "outputs": [
    {
     "name": "stderr",
     "output_type": "stream",
     "text": [
      "[I 2025-05-13 00:53:14,370] A new study created in memory with name: no-name-e5084d48-2069-4014-8ab5-0c650a03f17c\n"
     ]
    },
    {
     "name": "stdout",
     "output_type": "stream",
     "text": [
      "  Params: n_components=52, lr=0.0841, loss=bpr,  epochs=35\n"
     ]
    },
    {
     "name": "stderr",
     "output_type": "stream",
     "text": [
      "[I 2025-05-13 00:53:23,966] Trial 0 finished with value: 0.8057624697685242 and parameters: {'no_components': 52, 'learning_rate': 0.08414915403654875, 'loss': 'bpr', 'epochs': 35}. Best is trial 0 with value: 0.8057624697685242.\n"
     ]
    },
    {
     "name": "stdout",
     "output_type": "stream",
     "text": [
      "  Params: n_components=67, lr=0.0017, loss=bpr,  epochs=35\n"
     ]
    },
    {
     "name": "stderr",
     "output_type": "stream",
     "text": [
      "[I 2025-05-13 00:53:45,255] Trial 1 finished with value: 0.7039970755577087 and parameters: {'no_components': 67, 'learning_rate': 0.0016939671468572687, 'loss': 'bpr', 'epochs': 35}. Best is trial 0 with value: 0.8057624697685242.\n"
     ]
    },
    {
     "name": "stdout",
     "output_type": "stream",
     "text": [
      "  Params: n_components=59, lr=0.0138, loss=bpr,  epochs=23\n"
     ]
    },
    {
     "name": "stderr",
     "output_type": "stream",
     "text": [
      "[I 2025-05-13 00:53:50,516] Trial 2 finished with value: 0.8037230968475342 and parameters: {'no_components': 59, 'learning_rate': 0.013846716066246734, 'loss': 'bpr', 'epochs': 23}. Best is trial 0 with value: 0.8057624697685242.\n"
     ]
    },
    {
     "name": "stdout",
     "output_type": "stream",
     "text": [
      "  Params: n_components=61, lr=0.0013, loss=warp,  epochs=39\n"
     ]
    },
    {
     "name": "stderr",
     "output_type": "stream",
     "text": [
      "[I 2025-05-13 00:53:54,314] Trial 3 finished with value: 0.7899662852287292 and parameters: {'no_components': 61, 'learning_rate': 0.0013315492460390036, 'loss': 'warp', 'epochs': 39}. Best is trial 0 with value: 0.8057624697685242.\n"
     ]
    },
    {
     "name": "stdout",
     "output_type": "stream",
     "text": [
      "  Params: n_components=93, lr=0.0760, loss=logistic,  epochs=29\n"
     ]
    }
   ],
   "source": [
    "import optuna\n",
    "\n",
    "# Afinamiento de hiperparámetros con optuna\n",
    "\n",
    "def objective(trial):\n",
    "\n",
    "    # grilla de hiperparámetros\n",
    "    n_components = trial.suggest_int('no_components', 10, 100)       # Sugiere un entero para el número de componentes latentes (dimensionalidad del modelo).\n",
    "    learning_rate = trial.suggest_float('learning_rate', 0.001, 0.1, log=True) # Sugiere un flotante (en escala logarítmica) para la tasa de aprendizaje del optimizador.\n",
    "    loss = trial.suggest_categorical('loss', ['logistic', 'bpr', 'warp']) # Sugiere un valor categórico para la función de pérdida ('logistic', 'bpr' o 'warp').\n",
    "    epochs = trial.suggest_int('epochs', 10, 50)                     # Sugiere un entero para el número de épocas de entrenamiento.\n",
    "\n",
    "    print(f\"  Params: n_components={n_components}, lr={learning_rate:.4f}, loss={loss},  epochs={epochs}\")\n",
    "\n",
    "    # Modelo con parámetros sugeridos\n",
    "    model = LightFM(\n",
    "        no_components=n_components,\n",
    "        learning_rate=learning_rate,\n",
    "        loss=loss,\n",
    "        random_state = 42\n",
    "    )\n",
    "\n",
    "    model.fit(train_interactions,\n",
    "              epochs=epochs,\n",
    "              verbose=False,\n",
    "              sample_weight=train_weights)\n",
    "\n",
    "    test_auc = auc_score(model, test_interactions).mean()\n",
    "\n",
    "    return test_auc\n",
    "\n",
    "\n",
    "study = optuna.create_study(direction='maximize')\n",
    "study.optimize(objective, n_trials=10)\n",
    "\n",
    "#Resultados\n",
    "print(f\"Best trial:\")\n",
    "print(f\"  Value (Test AUC): {study.best_value:.4f}\")\n",
    "print(f\"  Params: {study.best_params}\")\n",
    "\n",
    "#Entrenar modelo con mejores hyperparametros\n",
    "best_params = study.best_params\n",
    "\n",
    "\n",
    "model = LightFM(\n",
    "    no_components=best_params['no_components'],\n",
    "    learning_rate=best_params['learning_rate'],\n",
    "    loss=best_params['loss'],\n",
    "    random_state=42\n",
    ")\n",
    "\n",
    "model.fit(train_interactions,\n",
    "                epochs=best_params['epochs'],\n",
    "                verbose=True,\n",
    "                sample_weight=train_weights)\n",
    "\n",
    "\n",
    "# Resultado final\n",
    "train_auc = auc_score(model, train_interactions).mean()\n",
    "test_auc = auc_score(model, test_interactions).mean()\n",
    "\n",
    "print('Final Model AUC: train %.4f, test %.4f.' % (train_auc, test_auc))\n"
   ]
  },
  {
   "cell_type": "code",
   "execution_count": null,
   "id": "1957cb02",
   "metadata": {
    "executionInfo": {
     "elapsed": 5819,
     "status": "aborted",
     "timestamp": 1747097580314,
     "user": {
      "displayName": "MATEO TORO LOPEZ",
      "userId": "14024993212465818370"
     },
     "user_tz": 300
    },
    "id": "1957cb02"
   },
   "outputs": [],
   "source": [
    "def recommendation(model, data, original_user_id, conn, k):\n",
    "\n",
    "    # Cargar todas las películas que no ha visto el usuario desde la base de datos\n",
    "    df_nr_movies = pd.read_sql(f'select * from full_ratings where movie_id<>{original_user_id}', conn)\n",
    "    id_nr_movie = df_nr_movies['movie_id'].values\n",
    "\n",
    "    # Obtener los índices de ítems (películas) en el modelo que no están en los vistos\n",
    "    item_id_nr = [value for key, value in data.mapping()[2].items() if value not in id_nr_movie]\n",
    "\n",
    "    uid_index = data.mapping()[0][original_user_id]# Obtener el índice del usuario en el modelo Lightfm\n",
    "\n",
    "    # Predecir los scores y ordenar\n",
    "    scores = model.predict(uid_index, item_id_nr)\n",
    "    sorted_indices = np.argsort(-scores).tolist()\n",
    "\n",
    "    # Obtener los IDs de las películas con mejor score\n",
    "    top_items = [key for key, value in data.mapping()[2].items() if value in sorted_indices[:k]]\n",
    "\n",
    "    # Filtrar las películas recomendadas del df original\n",
    "    recommended = df_nr_movies[df_nr_movies['movie_id'].isin(top_items)][['movie_id', 'movie_title']]\n",
    "\n",
    "    # Eliminar duplicados por si una película aparece más de una vez\n",
    "    recommended.drop_duplicates(inplace=True)\n",
    "\n",
    "    return recommended"
   ]
  },
  {
   "cell_type": "code",
   "execution_count": null,
   "id": "CMrWx1G_g7NH",
   "metadata": {
    "collapsed": true,
    "executionInfo": {
     "elapsed": 5882,
     "status": "aborted",
     "timestamp": 1747097580378,
     "user": {
      "displayName": "MATEO TORO LOPEZ",
      "userId": "14024993212465818370"
     },
     "user_tz": 300
    },
    "id": "CMrWx1G_g7NH"
   },
   "outputs": [],
   "source": [
    "#dataset_train.mapping()[0]"
   ]
  },
  {
   "cell_type": "code",
   "execution_count": null,
   "id": "b44-OJXZi9uy",
   "metadata": {
    "executionInfo": {
     "elapsed": 5895,
     "status": "aborted",
     "timestamp": 1747097580393,
     "user": {
      "displayName": "MATEO TORO LOPEZ",
      "userId": "14024993212465818370"
     },
     "user_tz": 300
    },
    "id": "b44-OJXZi9uy"
   },
   "outputs": [],
   "source": [
    "recommendation(model, dataset_train, 38, con, 10)"
   ]
  },
  {
   "cell_type": "code",
   "execution_count": null,
   "id": "fc88925b",
   "metadata": {
    "executionInfo": {
     "elapsed": 5896,
     "status": "aborted",
     "timestamp": 1747097580395,
     "user": {
      "displayName": "MATEO TORO LOPEZ",
      "userId": "14024993212465818370"
     },
     "user_tz": 300
    },
    "id": "fc88925b"
   },
   "outputs": [],
   "source": [
    "import nbformat\n",
    "\n",
    "# Path to your notebook\n",
    "input_notebook = 'd_modelos.ipynb'\n",
    "output_notebook = 'd_modelos2.ipynb'\n",
    "\n",
    "# Load the notebook\n",
    "with open(input_notebook, 'r') as f:\n",
    "    notebook = nbformat.read(f, as_version=4)\n",
    "\n",
    "# Check if the notebook has 'metadata.widgets' and remove it\n",
    "if 'widgets' in notebook.metadata:\n",
    "    del notebook.metadata['widgets']  # Removes widgets metadata completely\n",
    "\n",
    "# Alternatively, if you want to add a 'state' key inside 'widgets', do this:\n",
    "# if 'widgets' in notebook.metadata:\n",
    "#     notebook.metadata['widgets']['state'] = {}\n",
    "\n",
    "# Save the modified notebook\n",
    "with open(output_notebook, 'w') as f:\n",
    "    nbformat.write(notebook, f)\n",
    "\n",
    "print(f\"Fixed notebook saved as {output_notebook}\")"
   ]
  }
 ],
 "metadata": {
  "colab": {
   "provenance": []
  },
  "kernelspec": {
   "display_name": "Python 3",
   "language": "python",
   "name": "python3"
  },
  "language_info": {
   "codemirror_mode": {
    "name": "ipython",
    "version": 3
   },
   "file_extension": ".py",
   "mimetype": "text/x-python",
   "name": "python",
   "nbconvert_exporter": "python",
   "pygments_lexer": "ipython3",
   "version": "3.11.5"
  }
 },
 "nbformat": 4,
 "nbformat_minor": 5
}
