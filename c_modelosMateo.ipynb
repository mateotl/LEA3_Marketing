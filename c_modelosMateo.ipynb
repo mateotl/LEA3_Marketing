{
 "cells": [
  {
   "cell_type": "code",
   "execution_count": null,
   "id": "9f3b550d",
   "metadata": {},
   "outputs": [],
   "source": [
    "import numpy as np\n",
    "import pandas as pd\n",
    "import sqlite3 as sql\n",
    "from sklearn.preprocessing import MinMaxScaler\n",
    "from ipywidgets import interact ## para análisis interactivo\n",
    "from sklearn import neighbors ### basado en contenido un solo producto consumido\n",
    "import joblib\n",
    "#### conectar_base_de_Datos\n",
    "#!pip install ipywidgets\n",
    "\n",
    "# CREAR CONEXIÓN CON LA BASE DE DATOS db_movies\n",
    "con = sql.connect('data/db_movies')\n",
    "\n",
    "# CREAR EL CURSOR\n",
    "cur = con.cursor() ## se crea el cursor, que es el otro tipo de conexión para ejecutar las consultas"
   ]
  },
  {
   "cell_type": "code",
   "execution_count": null,
   "id": "803b499b",
   "metadata": {},
   "outputs": [],
   "source": [
    "db_movies_final= joblib.load('salidas/db_movies_final.joblib')\n"
   ]
  },
  {
   "cell_type": "code",
   "execution_count": null,
   "id": "be5ad099",
   "metadata": {},
   "outputs": [],
   "source": []
  }
 ],
 "metadata": {
  "language_info": {
   "name": "python"
  }
 },
 "nbformat": 4,
 "nbformat_minor": 5
}
