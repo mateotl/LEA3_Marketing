{
 "cells": [
  {
   "cell_type": "code",
   "execution_count": null,
   "id": "0a609ab1",
   "metadata": {},
   "outputs": [],
   "source": [
    "import numpy as np\n",
    "import pandas as pd\n",
    "import sqlite3 as sql\n",
    "from sklearn.preprocessing import MinMaxScaler\n",
    "from ipywidgets import interact ## para análisis interactivo\n",
    "from sklearn import neighbors ### basado en contenido un solo producto consumido\n",
    "import joblib\n",
    "import ipywidgets as widgets\n",
    "from IPython.display import display\n",
    "#### conectar_base_de_Datos\n",
    "#!pip install ipywidgets\n",
    "\n",
    "# CREAR CONEXIÓN CON LA BASE DE DATOS db_movies\n",
    "con = sql.connect('data/db_movies')\n",
    "\n",
    "# CREAR EL CURSOR\n",
    "cur = con.cursor() ## se crea el cursor, que es el otro tipo de conexión para ejecutar las consultas"
   ]
  },
  {
   "cell_type": "code",
   "execution_count": null,
   "id": "02860491",
   "metadata": {},
   "outputs": [
    {
     "data": {
      "application/vnd.jupyter.widget-view+json": {
       "model_id": "1d08527e09cc4e2aba00fbc032532e13",
       "version_major": 2,
       "version_minor": 0
      },
      "text/plain": [
       "interactive(children=(Dropdown(description='Género:', layout=Layout(width='300px'), options=('Action', 'Advent…"
      ]
     },
     "metadata": {},
     "output_type": "display_data"
    },
    {
     "data": {
      "text/plain": [
       "<function __main__.mostrar_recomendaciones(genero)>"
      ]
     },
     "execution_count": 7,
     "metadata": {},
     "output_type": "execute_result"
    }
   ],
   "source": [
    "# Cargar todos los datos una sola vez desde full_ratings\n",
    "df_full = pd.read_sql('SELECT * FROM full_ratings', con)\n",
    "\n",
    "# Seleccionar las columnas que que influiran en el modelo de vecinos cercanos\n",
    "feature_cols = df_full.drop(columns=['movie_id', 'movie_title', 'user_id']).columns\n",
    "\n",
    "# Detectar automáticamente todas las columnas dummy de géneros (suponiendo que no son 'movie_id', 'user_id', etc.)\n",
    "columnas_excluir = {'movie_id', 'movie_title', 'user_id', 'movie_rating','movie_title','movie_year'}  # agrega más si es necesario\n",
    "genre_cols = [col for col in df_full.columns if col not in columnas_excluir and df_full[col].dropna().isin([0, 1]).all()]\n",
    "\n",
    "# Dropdown interactivo con todos los géneros detectados\n",
    "dropdown_genero = widgets.Dropdown(\n",
    "    options=genre_cols,\n",
    "    description='Género:',\n",
    "    layout=widgets.Layout(width='300px')\n",
    ")\n",
    "\n",
    "def recomendar_con_genero(user_id, genero, n_recomendaciones=10):\n",
    "    ratings_user = df_full[df_full['user_id'] == user_id]\n",
    "    #if ratings_user.empty:\n",
    "    #    return pd.DataFrame({'mensaje': [f' Usuario {user_id} sin registros.']})\n",
    "\n",
    "    rated_ids = ratings_user['movie_id'].unique()\n",
    "    df_rated = ratings_user[feature_cols].copy()\n",
    "    df_rated['dummy'] = 1\n",
    "    perfil = df_rated.groupby('dummy').mean() \n",
    "\n",
    "    # Filtrar solo películas no vistas y que pertenezcan al género seleccionado\n",
    "    df_no_rated = df_full[(~df_full['movie_id'].isin(rated_ids)) & (df_full[genero] == 1)]\n",
    "    df_no_rated = df_no_rated.drop_duplicates('movie_id')\n",
    "    X_no_rated = df_no_rated[feature_cols]\n",
    "\n",
    "    #if X_no_rated.empty:\n",
    "    #    return pd.DataFrame({'mensaje': [f' No hay películas del género {genero} para recomendar.']})\n",
    "\n",
    "    model = neighbors.NearestNeighbors(n_neighbors=n_recomendaciones, metric='cosine')\n",
    "    model.fit(X_no_rated)\n",
    "    dist, idx = model.kneighbors(perfil)  # <- Línea corregida\n",
    "\n",
    "    recs = df_no_rated.iloc[idx[0]][['movie_title', 'movie_id']].copy()\n",
    "    recs['distancia'] = dist[0]\n",
    "    return recs.sort_values(by='distancia')\n",
    "\n",
    "def mostrar_recomendaciones(genero):\n",
    "    display(recomendar_con_genero(user_id=609, genero=genero))\n",
    "\n",
    "# Crear el widget interactivo\n",
    "widgets.interact(mostrar_recomendaciones, genero=dropdown_genero)"
   ]
  }
 ],
 "metadata": {
  "kernelspec": {
   "display_name": "Python 3",
   "language": "python",
   "name": "python3"
  },
  "language_info": {
   "codemirror_mode": {
    "name": "ipython",
    "version": 3
   },
   "file_extension": ".py",
   "mimetype": "text/x-python",
   "name": "python",
   "nbconvert_exporter": "python",
   "pygments_lexer": "ipython3",
   "version": "3.13.2"
  }
 },
 "nbformat": 4,
 "nbformat_minor": 5
}
