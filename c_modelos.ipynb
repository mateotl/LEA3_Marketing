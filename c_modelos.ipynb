{
 "cells": [
  {
   "cell_type": "code",
   "execution_count": 2,
   "metadata": {
    "colab": {
     "base_uri": "https://localhost:8080/"
    },
    "executionInfo": {
     "elapsed": 18419,
     "status": "ok",
     "timestamp": 1746890403947,
     "user": {
      "displayName": "JONATHAN VILLEGAS GIRALDO",
      "userId": "17162699385702916967"
     },
     "user_tz": 300
    },
    "id": "TJzMrdHTfxeC",
    "outputId": "0a1053ff-d137-475b-91bd-3fea54a4100b"
   },
   "outputs": [
    {
     "name": "stdout",
     "output_type": "stream",
     "text": [
      "Mounted at /content/drive\n"
     ]
    }
   ],
   "source": [
    "# CONECTAR CON DRIVE\n",
    "from google.colab import drive\n",
    "drive.mount('/content/drive')"
   ]
  },
  {
   "cell_type": "code",
   "execution_count": 3,
   "metadata": {
    "executionInfo": {
     "elapsed": 585,
     "status": "ok",
     "timestamp": 1746890408367,
     "user": {
      "displayName": "JONATHAN VILLEGAS GIRALDO",
      "userId": "17162699385702916967"
     },
     "user_tz": 300
    },
    "id": "TyUMA63nf9Q4"
   },
   "outputs": [],
   "source": [
    "import os\n",
    "import sys\n",
    "path ='/content/drive/MyDrive/cod/LEA3_Marketing'\n",
    "os.chdir(path) ## volver la carpeta de repositorio directorio de trabajo\n",
    "sys.path.append(path) ## agregarla al path, para leer archivos propios como paquetes"
   ]
  },
  {
   "cell_type": "code",
   "execution_count": 4,
   "metadata": {
    "executionInfo": {
     "elapsed": 2675,
     "status": "ok",
     "timestamp": 1746890425033,
     "user": {
      "displayName": "JONATHAN VILLEGAS GIRALDO",
      "userId": "17162699385702916967"
     },
     "user_tz": 300
    },
    "id": "AmuM6iJlf-wb"
   },
   "outputs": [],
   "source": [
    "import numpy as np\n",
    "import pandas as pd\n",
    "import sqlite3 as sql\n",
    "from sklearn.preprocessing import MinMaxScaler\n",
    "from ipywidgets import interact ## para análisis interactivo\n",
    "from sklearn import neighbors ### basado en contenido un solo producto consumido\n",
    "import joblib\n",
    "#### conectar_base_de_Datos\n",
    "#!pip install ipywidgets\n",
    "\n",
    "# CREAR CONEXIÓN CON LA BASE DE DATOS db_movies\n",
    "con = sql.connect('data/db_movies')\n",
    "\n",
    "# CREAR EL CURSOR\n",
    "cur = con.cursor() ## se crea el cursor, que es el otro tipo de conexión para ejecutar las consultas"
   ]
  },
  {
   "cell_type": "code",
   "execution_count": 11,
   "metadata": {
    "executionInfo": {
     "elapsed": 8,
     "status": "ok",
     "timestamp": 1746890614111,
     "user": {
      "displayName": "JONATHAN VILLEGAS GIRALDO",
      "userId": "17162699385702916967"
     },
     "user_tz": 300
    },
    "id": "erWvvdj0y1l5"
   },
   "outputs": [],
   "source": [
    "# Ajustar el ancho máximo de las columnas\n",
    "pd.set_option('display.max_columns', None)  # Muestra todas las columnas\n",
    "pd.set_option('display.width', 1000)  # Aumenta el ancho de la línea"
   ]
  },
  {
   "cell_type": "code",
   "execution_count": 5,
   "metadata": {
    "colab": {
     "base_uri": "https://localhost:8080/"
    },
    "executionInfo": {
     "elapsed": 9,
     "status": "ok",
     "timestamp": 1746890429783,
     "user": {
      "displayName": "JONATHAN VILLEGAS GIRALDO",
      "userId": "17162699385702916967"
     },
     "user_tz": 300
    },
    "id": "wH6MgcJpgV55",
    "outputId": "40a37da1-7965-4ae8-a9aa-7f689e75f318"
   },
   "outputs": [
    {
     "name": "stdout",
     "output_type": "stream",
     "text": [
      "[('ratings',), ('movies',)]\n"
     ]
    }
   ],
   "source": [
    "cur.execute(\"SELECT name FROM sqlite_master WHERE type='table';\")\n",
    "print(cur.fetchall())"
   ]
  },
  {
   "cell_type": "markdown",
   "metadata": {
    "id": "vhjYOTFfzKFJ"
   },
   "source": [
    "## TOP 10 Peliculas con mejores calificaciones y mas calificadas\n",
    "###  Se usa pesos para dar a los mas calificados mejor puntuacion asi como a los mejor calificados mas puntuacion, entonces una pelicula con muchas calificaciones y bien calificadas tendra gran oportunidad de hacer parte de este top 10 de popularidad"
   ]
  },
  {
   "cell_type": "code",
   "execution_count": null,
   "metadata": {
    "colab": {
     "base_uri": "https://localhost:8080/"
    },
    "executionInfo": {
     "elapsed": 85,
     "status": "ok",
     "timestamp": 1746890445080,
     "user": {
      "displayName": "JONATHAN VILLEGAS GIRALDO",
      "userId": "17162699385702916967"
     },
     "user_tz": 300
    },
    "id": "oV1oLRA1RiGK",
    "outputId": "ff369c56-7155-46aa-dc2c-bc144ebd863a"
   },
   "outputs": [
    {
     "name": "stdout",
     "output_type": "stream",
     "text": [
      "Average Rating (C): 3.501556983616962\n",
      "75th Percentile of Rating Counts (m): 9.0\n"
     ]
    }
   ],
   "source": [
    "# Calcular el promedio de calificación (C) y el percentil 75 de cantidad de calificaciones (m)\n",
    "\n",
    "# Primero, el conteo de rantings\n",
    "rating_counts_df = pd.read_sql(\"\"\"\n",
    "    SELECT COUNT(*) AS rating_count\n",
    "    FROM ratings\n",
    "    GROUP BY movieId\n",
    "\"\"\", con)\n",
    "\n",
    "# Calificacion promedio / rating promedio\n",
    "avg_rating_df = pd.read_sql(\"\"\"\n",
    "    SELECT AVG(rating) AS C\n",
    "    FROM ratings\n",
    "\"\"\", con)\n",
    "\n",
    "# Extraccion de calificación promedio\n",
    "C = avg_rating_df['C'].iloc[0]\n",
    "\n",
    "# calculo del percentil 75.\n",
    "m = rating_counts_df['rating_count'].quantile(0.75)\n",
    "\n",
    "print(f\"Rating promedio (C): {C}\")\n",
    "print(f\"percentil 75 del conteo de calificaciones (m): {m}\")"
   ]
  },
  {
   "cell_type": "code",
   "execution_count": 12,
   "metadata": {
    "colab": {
     "base_uri": "https://localhost:8080/"
    },
    "executionInfo": {
     "elapsed": 154,
     "status": "ok",
     "timestamp": 1746890626153,
     "user": {
      "displayName": "JONATHAN VILLEGAS GIRALDO",
      "userId": "17162699385702916967"
     },
     "user_tz": 300
    },
    "id": "p6wc01L0R6Q6",
    "outputId": "a1c8dee9-7d35-47d8-8f0b-b846f9045b95"
   },
   "outputs": [
    {
     "name": "stdout",
     "output_type": "stream",
     "text": [
      "                                               title  avg_rating  rating_count  weighted_rating\n",
      "0                   Shawshank Redemption, The (1994)    4.429022           317         4.403417\n",
      "1                              Godfather, The (1972)    4.289062           192         4.253801\n",
      "2                                  Fight Club (1999)    4.272936           218         4.242352\n",
      "3                     Godfather: Part II, The (1974)    4.259690           129         4.210246\n",
      "4                         Usual Suspects, The (1995)    4.237745           204         4.206639\n",
      "5          Star Wars: Episode IV - A New Hope (1977)    4.231076           251         4.205823\n",
      "6  Dr. Strangelove or: How I Learned to Stop Worr...    4.268041            97         4.202962\n",
      "7                                  Goodfellas (1990)    4.250000           126         4.200104\n",
      "8                            Schindler's List (1993)    4.225000           220         4.196568\n",
      "9                            Dark Knight, The (2008)    4.238255           149         4.196291\n"
     ]
    }
   ],
   "source": [
    "## se prepara el query donde  calcula la calificacion ponderada dando uso a los productos mas calificados y con mejor calificacion.\n",
    "query = f\"\"\"\n",
    "    SELECT m.title,\n",
    "           AVG(r.rating) AS avg_rating,\n",
    "           COUNT(*) AS rating_count,\n",
    "           -- Calcular rating con peso por vista y calificación\n",
    "           ((COUNT(*) / (COUNT(*) + {m})) * AVG(r.rating) +\n",
    "           ({m} / (COUNT(*) + {m})) * {C}) AS weighted_rating\n",
    "    FROM ratings r\n",
    "    JOIN movies m ON r.movieId = m.movieId\n",
    "    WHERE r.rating > 0\n",
    "    GROUP BY m.title\n",
    "    HAVING rating_count > 30\n",
    "    ORDER BY weighted_rating DESC\n",
    "    LIMIT 10\n",
    "\"\"\"\n",
    "df = pd.read_sql(query, con)\n",
    "\n",
    "\n",
    "\n",
    "print(df)"
   ]
  },
  {
   "cell_type": "code",
   "execution_count": null,
   "metadata": {
    "id": "PGIG1BFpldqZ"
   },
   "outputs": [],
   "source": []
  },
  {
   "cell_type": "code",
   "execution_count": null,
   "metadata": {
    "id": "AK02euS2ripO"
   },
   "outputs": [],
   "source": [
    "## Pendiente de revisar ya sea mejor almacenando la consulta en un dataframe para manipular\n",
    "\n",
    "#### los mejores calificados por año publicacion ###\n",
    "pd.read_sql(\"\"\"\n",
    "  SELECT\n",
    "      SUBSTR(m.title, LENGTH(m.title) - 5, 6) AS movie_year,  -- Extrae las últimas 4 cifras (año)\n",
    "      SUBSTR(m.title, 1, LENGTH(m.title) - 7) AS movie_name,  -- Extrae el nombre quitando el año\n",
    "      MAX(r.rating) AS best_rating\n",
    "  FROM movies m\n",
    "  JOIN ratings r ON m.movieId = r.movieId\n",
    "  GROUP BY movie_year\n",
    "  ORDER BY movie_year;\"\"\"\n",
    "    ,con)"
   ]
  },
  {
   "cell_type": "code",
   "execution_count": null,
   "metadata": {
    "id": "pZqoVXWitKp4"
   },
   "outputs": [],
   "source": [
    "movies=pd.read_sql(\"\"\"select * from movies\"\"\", con)\n"
   ]
  },
  {
   "cell_type": "code",
   "execution_count": null,
   "metadata": {
    "id": "IYAKGAQ5tRkK"
   },
   "outputs": [],
   "source": [
    "sep=movies['title'].str.split('(')\n",
    "\n",
    "year=sep.str[1].str.replace(')','')\n",
    "title=sep.str[0]"
   ]
  },
  {
   "cell_type": "code",
   "execution_count": null,
   "metadata": {
    "id": "XfYq6yu1tZj0"
   },
   "outputs": [],
   "source": [
    "movies['year'] = movies['title'].str.extract(r'\\((\\d{4})\\)$')\n",
    "movies['title_clean'] = movies['title'].str.replace(r'\\s*\\(\\d{4}\\)$', '', regex=True)"
   ]
  },
  {
   "cell_type": "code",
   "execution_count": null,
   "metadata": {
    "id": "bqZVlGlTtxOI"
   },
   "outputs": [],
   "source": [
    "movies.drop(columns=['title'], inplace=True)\n",
    "movies.rename(columns={'title_clean': 'title'}, inplace=True)"
   ]
  },
  {
   "cell_type": "code",
   "execution_count": null,
   "metadata": {
    "id": "vObDl9L4uVnO"
   },
   "outputs": [],
   "source": [
    "movies"
   ]
  },
  {
   "cell_type": "code",
   "execution_count": null,
   "metadata": {
    "id": "ONgJojDYAa59"
   },
   "outputs": [],
   "source": [
    "movies=movies[movies.columns[1:].tolist() + [movies.columns[0]]]\n",
    "movies.drop(columns=['genres'], inplace=True)\n",
    "movies"
   ]
  },
  {
   "cell_type": "code",
   "execution_count": null,
   "metadata": {
    "id": "zcL36egDBXbV"
   },
   "outputs": [],
   "source": [
    "#######################################################################\n",
    "######## 2.1 Sistema de recomendación basado en contenido un solo producto - Manual ########\n",
    "#######################################################################\n",
    "\n",
    "movies_2=pd.read_sql('select * from movies_final', con )\n",
    "\n",
    "movies_2.info()\n",
    "movies_2['año_estreno']=movies_2.año_estreno.astype('int')\n",
    "movies_2.info()\n",
    "\n",
    "##### escalar para que año esté en el mismo rango ###\n",
    "\n",
    "sc=MinMaxScaler()\n",
    "movies_2[[\"year_sc\"]]=sc.fit_transform(movies_2[['year_pub']])\n",
    "\n",
    "\n",
    "\n",
    "## eliminar filas que no se van a utilizar ###\n",
    "\n",
    "movies_2_dum1=movies_2.drop(columns=['isbn','i_url','year_pub','book_title']) ## ingresar las columnas a quitar ###\n",
    "\n",
    "#### convertir a dummies\n",
    "\n",
    "movies_2_dum1['book_author'].nunique()\n",
    "movies_2_dum1['publisher'].nunique()\n",
    "\n",
    "col_dum=['book_author','publisher']\n",
    "movies_2_dum2=pd.get_dummies(movies_2_dum1,columns=col_dum)\n",
    "movies_2_dum2.shape\n",
    "\n",
    "joblib.dump(movies_2_dum2,\"salidas\\\\movies_2_dum2.joblib\") ### para utilizar en segundos modelos\n",
    "\n",
    "\n"
   ]
  }
 ],
 "metadata": {
  "colab": {
   "authorship_tag": "ABX9TyOPVQrDJDbkBrUA99S4HwHN",
   "provenance": [
    {
     "file_id": "1sJPlPjX5yJsVv79tQKw-u1-Hr1PuPQFw",
     "timestamp": 1746504145586
    }
   ]
  },
  "kernelspec": {
   "display_name": "Python 3",
   "name": "python3"
  },
  "language_info": {
   "name": "python"
  }
 },
 "nbformat": 4,
 "nbformat_minor": 0
}
