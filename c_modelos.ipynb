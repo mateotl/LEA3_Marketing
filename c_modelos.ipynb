{
 "cells": [
  {
   "cell_type": "code",
   "execution_count": 1,
   "metadata": {
    "colab": {
     "base_uri": "https://localhost:8080/"
    },
    "executionInfo": {
     "elapsed": 54479,
     "status": "ok",
     "timestamp": 1746582424897,
     "user": {
      "displayName": "JONATHAN VILLEGAS GIRALDO",
      "userId": "17162699385702916967"
     },
     "user_tz": 300
    },
    "id": "TJzMrdHTfxeC",
    "outputId": "ae5f06dc-cebd-4485-fd81-7610e7ee6cf8"
   },
   "outputs": [
    {
     "name": "stdout",
     "output_type": "stream",
     "text": [
      "Mounted at /content/drive\n"
     ]
    }
   ],
   "source": [
    "# CONECTAR CON DRIVE\n",
    "from google.colab import drive\n",
    "drive.mount('/content/drive')"
   ]
  },
  {
   "cell_type": "code",
   "execution_count": 2,
   "metadata": {
    "executionInfo": {
     "elapsed": 293,
     "status": "ok",
     "timestamp": 1746582453380,
     "user": {
      "displayName": "JONATHAN VILLEGAS GIRALDO",
      "userId": "17162699385702916967"
     },
     "user_tz": 300
    },
    "id": "TyUMA63nf9Q4"
   },
   "outputs": [],
   "source": [
    "import os\n",
    "import sys\n",
    "path ='/content/drive/MyDrive/cod/LEA3_Marketing'\n",
    "os.chdir(path) ## volver la carpeta de repositorio directorio de trabajo\n",
    "sys.path.append(path) ## agregarla al path, para leer archivos propios como paquetes"
   ]
  },
  {
   "cell_type": "code",
   "execution_count": 3,
   "metadata": {
    "executionInfo": {
     "elapsed": 2575,
     "status": "ok",
     "timestamp": 1746582459519,
     "user": {
      "displayName": "JONATHAN VILLEGAS GIRALDO",
      "userId": "17162699385702916967"
     },
     "user_tz": 300
    },
    "id": "AmuM6iJlf-wb"
   },
   "outputs": [],
   "source": [
    "import numpy as np\n",
    "import pandas as pd\n",
    "import sqlite3 as sql\n",
    "from sklearn.preprocessing import MinMaxScaler\n",
    "from ipywidgets import interact ## para análisis interactivo\n",
    "from sklearn import neighbors ### basado en contenido un solo producto consumido\n",
    "import joblib\n",
    "#### conectar_base_de_Datos\n",
    "#!pip install ipywidgets\n",
    "\n",
    "# CREAR CONEXIÓN CON LA BASE DE DATOS db_movies\n",
    "con = sql.connect('data/db_movies')\n",
    "\n",
    "# CREAR EL CURSOR\n",
    "cur = con.cursor() ## se crea el cursor, que es el otro tipo de conexión para ejecutar las consultas"
   ]
  },
  {
   "cell_type": "code",
   "execution_count": 4,
   "metadata": {
    "colab": {
     "base_uri": "https://localhost:8080/"
    },
    "executionInfo": {
     "elapsed": 9,
     "status": "ok",
     "timestamp": 1746582464809,
     "user": {
      "displayName": "JONATHAN VILLEGAS GIRALDO",
      "userId": "17162699385702916967"
     },
     "user_tz": 300
    },
    "id": "wH6MgcJpgV55",
    "outputId": "1a900369-9072-4b78-fb58-4100bbad809e"
   },
   "outputs": [
    {
     "name": "stdout",
     "output_type": "stream",
     "text": [
      "[('ratings',), ('movies',)]\n"
     ]
    }
   ],
   "source": [
    "cur.execute(\"SELECT name FROM sqlite_master WHERE type='table';\")\n",
    "print(cur.fetchall())"
   ]
  },
  {
   "cell_type": "code",
   "execution_count": null,
   "metadata": {
    "id": "INpc9EpdkSx4"
   },
   "outputs": [],
   "source": [
    "# Películas mejor calificadas con al menos 30 valoraciones\n",
    "pd.read_sql(\"\"\"    SELECT m.title,\n",
    "           AVG(r.rating) AS avg_rating,\n",
    "           COUNT(*) AS rating_count\n",
    "    FROM ratings r\n",
    "    JOIN movies m ON r.movieId = m.movieId\n",
    "    WHERE r.rating > 0\n",
    "    GROUP BY m.title\n",
    "    HAVING rating_count > 30\n",
    "    ORDER BY avg_rating DESC\n",
    "    LIMIT 10\n",
    "\"\"\", con)"
   ]
  },
  {
   "cell_type": "code",
   "execution_count": null,
   "metadata": {
    "id": "PGIG1BFpldqZ"
   },
   "outputs": [],
   "source": [
    "# Películas más calificadas con promedio de calificación\n",
    "pd.read_sql(\"\"\"\n",
    "    SELECT m.title,\n",
    "           AVG(CASE WHEN r.rating = 0 THEN NULL ELSE r.rating END) AS avg_rating,\n",
    "           COUNT(*) AS rating_count\n",
    "    FROM ratings r\n",
    "    JOIN movies m ON r.movieId = m.movieId\n",
    "    GROUP BY m.title\n",
    "    ORDER BY rating_count DESC\n",
    "    LIMIT 20\n",
    "\"\"\", con)"
   ]
  },
  {
   "cell_type": "code",
   "execution_count": null,
   "metadata": {
    "id": "AK02euS2ripO"
   },
   "outputs": [],
   "source": [
    "## Pendiente de revisar ya sea mejor almacenando la consulta en un dataframe para manipular\n",
    "\n",
    "#### los mejores calificados por año publicacion ###\n",
    "pd.read_sql(\"\"\"\n",
    "  SELECT\n",
    "      SUBSTR(m.title, LENGTH(m.title) - 5, 6) AS movie_year,  -- Extrae las últimas 4 cifras (año)\n",
    "      SUBSTR(m.title, 1, LENGTH(m.title) - 7) AS movie_name,  -- Extrae el nombre quitando el año\n",
    "      MAX(r.rating) AS best_rating\n",
    "  FROM movies m\n",
    "  JOIN ratings r ON m.movieId = r.movieId\n",
    "  GROUP BY movie_year\n",
    "  ORDER BY movie_year;\"\"\"\n",
    "    ,con)"
   ]
  },
  {
   "cell_type": "code",
   "execution_count": 9,
   "metadata": {
    "executionInfo": {
     "elapsed": 17,
     "status": "ok",
     "timestamp": 1746582842079,
     "user": {
      "displayName": "JONATHAN VILLEGAS GIRALDO",
      "userId": "17162699385702916967"
     },
     "user_tz": 300
    },
    "id": "pZqoVXWitKp4"
   },
   "outputs": [],
   "source": [
    "movies=pd.read_sql(\"\"\"select * from movies\"\"\", con)\n"
   ]
  },
  {
   "cell_type": "code",
   "execution_count": 10,
   "metadata": {
    "executionInfo": {
     "elapsed": 23,
     "status": "ok",
     "timestamp": 1746582844210,
     "user": {
      "displayName": "JONATHAN VILLEGAS GIRALDO",
      "userId": "17162699385702916967"
     },
     "user_tz": 300
    },
    "id": "IYAKGAQ5tRkK"
   },
   "outputs": [],
   "source": [
    "sep=movies['title'].str.split('(')\n",
    "\n",
    "year=sep.str[1].str.replace(')','')\n",
    "title=sep.str[0]"
   ]
  },
  {
   "cell_type": "code",
   "execution_count": 11,
   "metadata": {
    "executionInfo": {
     "elapsed": 15,
     "status": "ok",
     "timestamp": 1746582846516,
     "user": {
      "displayName": "JONATHAN VILLEGAS GIRALDO",
      "userId": "17162699385702916967"
     },
     "user_tz": 300
    },
    "id": "XfYq6yu1tZj0"
   },
   "outputs": [],
   "source": [
    "movies['year'] = movies['title'].str.extract(r'\\((\\d{4})\\)$')\n",
    "movies['title_clean'] = movies['title'].str.replace(r'\\s*\\(\\d{4}\\)$', '', regex=True)"
   ]
  },
  {
   "cell_type": "code",
   "execution_count": 12,
   "metadata": {
    "executionInfo": {
     "elapsed": 3,
     "status": "ok",
     "timestamp": 1746582849763,
     "user": {
      "displayName": "JONATHAN VILLEGAS GIRALDO",
      "userId": "17162699385702916967"
     },
     "user_tz": 300
    },
    "id": "bqZVlGlTtxOI"
   },
   "outputs": [],
   "source": [
    "movies.drop(columns=['title'], inplace=True)\n",
    "movies.rename(columns={'title_clean': 'title'}, inplace=True)"
   ]
  },
  {
   "cell_type": "code",
   "execution_count": null,
   "metadata": {
    "id": "vObDl9L4uVnO"
   },
   "outputs": [],
   "source": [
    "movies"
   ]
  },
  {
   "cell_type": "code",
   "execution_count": null,
   "metadata": {
    "id": "ONgJojDYAa59"
   },
   "outputs": [],
   "source": [
    "movies=movies[movies.columns[1:].tolist() + [movies.columns[0]]]\n",
    "movies.drop(columns=['genres'], inplace=True)\n",
    "movies"
   ]
  },
  {
   "cell_type": "code",
   "execution_count": null,
   "metadata": {
    "id": "zcL36egDBXbV"
   },
   "outputs": [],
   "source": [
    "#######################################################################\n",
    "######## 2.1 Sistema de recomendación basado en contenido un solo producto - Manual ########\n",
    "#######################################################################\n",
    "\n",
    "movies_2=pd.read_sql('select * from movies_final', con )\n",
    "\n",
    "movies_2.info()\n",
    "movies_2['año_estreno']=movies_2.año_estreno.astype('int')\n",
    "movies_2.info()\n",
    "\n",
    "##### escalar para que año esté en el mismo rango ###\n",
    "\n",
    "sc=MinMaxScaler()\n",
    "movies_2[[\"year_sc\"]]=sc.fit_transform(movies_2[['year_pub']])\n",
    "\n",
    "\n",
    "\n",
    "## eliminar filas que no se van a utilizar ###\n",
    "\n",
    "movies_2_dum1=movies_2.drop(columns=['isbn','i_url','year_pub','book_title']) ## ingresar las columnas a quitar ###\n",
    "\n",
    "#### convertir a dummies\n",
    "\n",
    "movies_2_dum1['book_author'].nunique()\n",
    "movies_2_dum1['publisher'].nunique()\n",
    "\n",
    "col_dum=['book_author','publisher']\n",
    "movies_2_dum2=pd.get_dummies(movies_2_dum1,columns=col_dum)\n",
    "movies_2_dum2.shape\n",
    "\n",
    "joblib.dump(movies_2_dum2,\"salidas\\\\movies_2_dum2.joblib\") ### para utilizar en segundos modelos\n",
    "\n",
    "\n"
   ]
  }
 ],
 "metadata": {
  "colab": {
   "authorship_tag": "ABX9TyNhYjuYcIbLsVNs55eVSx4s",
   "provenance": [
    {
     "file_id": "1sJPlPjX5yJsVv79tQKw-u1-Hr1PuPQFw",
     "timestamp": 1746504145586
    }
   ]
  },
  "kernelspec": {
   "display_name": "Python 3",
   "name": "python3"
  },
  "language_info": {
   "name": "python"
  }
 },
 "nbformat": 4,
 "nbformat_minor": 0
}
