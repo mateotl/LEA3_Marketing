{
 "cells": [
  {
   "cell_type": "markdown",
   "metadata": {
    "id": "zxcb1J25xYJC"
   },
   "source": [
    "# <font color=4CBB17>**1. Sistemas basados en popularidad**</font>"
   ]
  },
  {
   "cell_type": "code",
   "execution_count": 1,
   "metadata": {
    "colab": {
     "base_uri": "https://localhost:8080/"
    },
    "executionInfo": {
     "elapsed": 18919,
     "status": "ok",
     "timestamp": 1746924029064,
     "user": {
      "displayName": "MATEO TORO LOPEZ",
      "userId": "14024993212465818370"
     },
     "user_tz": 300
    },
    "id": "TJzMrdHTfxeC",
    "outputId": "da0b8d3a-20d9-44e8-a8dc-c2571ea00c65"
   },
   "outputs": [
    {
     "name": "stdout",
     "output_type": "stream",
     "text": [
      "Mounted at /content/drive\n"
     ]
    }
   ],
   "source": [
    "# CONECTAR CON DRIVE\n",
    "from google.colab import drive\n",
    "drive.mount('/content/drive')"
   ]
  },
  {
   "cell_type": "code",
   "execution_count": 2,
   "metadata": {
    "executionInfo": {
     "elapsed": 827,
     "status": "ok",
     "timestamp": 1746924031091,
     "user": {
      "displayName": "MATEO TORO LOPEZ",
      "userId": "14024993212465818370"
     },
     "user_tz": 300
    },
    "id": "TyUMA63nf9Q4"
   },
   "outputs": [],
   "source": [
    "import os\n",
    "import sys\n",
    "path ='/content/drive/MyDrive/cod/LEA3_Marketing'\n",
    "os.chdir(path) ## volver la carpeta de repositorio directorio de trabajo\n",
    "sys.path.append(path) ## agregarla al path, para leer archivos propios como paquetes"
   ]
  },
  {
   "cell_type": "code",
   "execution_count": 1,
   "metadata": {
    "executionInfo": {
     "elapsed": 5,
     "status": "ok",
     "timestamp": 1746934883602,
     "user": {
      "displayName": "MATEO TORO LOPEZ",
      "userId": "14024993212465818370"
     },
     "user_tz": 300
    },
    "id": "AmuM6iJlf-wb"
   },
   "outputs": [],
   "source": [
    "#!pip install ipywidgets\n",
    "import numpy as np\n",
    "import pandas as pd\n",
    "import sqlite3 as sql\n",
    "from sklearn.preprocessing import MinMaxScaler\n",
    "from ipywidgets import interact ## para análisis interactivo\n",
    "from sklearn import neighbors ### basado en contenido un solo producto consumido\n",
    "import joblib\n",
    "\n",
    "# CREAR CONEXIÓN CON LA BASE DE DATOS db_movies\n",
    "con = sql.connect('data/db_movies')\n",
    "\n",
    "# CREAR EL CURSOR\n",
    "cur = con.cursor() ## se crea el cursor, que es el otro tipo de conexión para ejecutar las consultas"
   ]
  },
  {
   "cell_type": "code",
   "execution_count": 2,
   "metadata": {
    "colab": {
     "base_uri": "https://localhost:8080/"
    },
    "executionInfo": {
     "elapsed": 39,
     "status": "ok",
     "timestamp": 1746937298645,
     "user": {
      "displayName": "MATEO TORO LOPEZ",
      "userId": "14024993212465818370"
     },
     "user_tz": 300
    },
    "id": "LZRAco-cSqtd",
    "outputId": "229b78e0-c1a6-4b67-d11f-9a8f7a169ed9"
   },
   "outputs": [
    {
     "data": {
      "text/plain": [
       "[('ratings',),\n",
       " ('movies',),\n",
       " ('usuarios_selectos',),\n",
       " ('Pelis_selectas',),\n",
       " ('ratings_final',),\n",
       " ('movies_final',),\n",
       " ('full_ratings',)]"
      ]
     },
     "execution_count": 2,
     "metadata": {},
     "output_type": "execute_result"
    }
   ],
   "source": [
    "# VERIFICAR LOS NOMBRES DE TODAS LAS TABLAS QUE HAY EN LA BASE DE DATOS\n",
    "cur.execute(\"\"\" select name from sqlite_master where type= 'table'  \"\"\")\n",
    "cur.fetchall()"
   ]
  },
  {
   "cell_type": "code",
   "execution_count": 15,
   "metadata": {
    "colab": {
     "base_uri": "https://localhost:8080/",
     "height": 206
    },
    "executionInfo": {
     "elapsed": 176,
     "status": "ok",
     "timestamp": 1746939950241,
     "user": {
      "displayName": "MATEO TORO LOPEZ",
      "userId": "14024993212465818370"
     },
     "user_tz": 300
    },
    "id": "q9Y_SWl2rwCH",
    "outputId": "e5861a05-b62c-45e6-9c41-676e6741279f"
   },
   "outputs": [
    {
     "data": {
      "text/html": [
       "<div>\n",
       "<style scoped>\n",
       "    .dataframe tbody tr th:only-of-type {\n",
       "        vertical-align: middle;\n",
       "    }\n",
       "\n",
       "    .dataframe tbody tr th {\n",
       "        vertical-align: top;\n",
       "    }\n",
       "\n",
       "    .dataframe thead th {\n",
       "        text-align: right;\n",
       "    }\n",
       "</style>\n",
       "<table border=\"1\" class=\"dataframe\">\n",
       "  <thead>\n",
       "    <tr style=\"text-align: right;\">\n",
       "      <th></th>\n",
       "      <th>movie_id</th>\n",
       "      <th>movie_title</th>\n",
       "      <th>user_id</th>\n",
       "      <th>movie_rating</th>\n",
       "      <th>movie_genres</th>\n",
       "    </tr>\n",
       "  </thead>\n",
       "  <tbody>\n",
       "    <tr>\n",
       "      <th>0</th>\n",
       "      <td>1</td>\n",
       "      <td>Toy Story (1995)</td>\n",
       "      <td>1</td>\n",
       "      <td>4.0</td>\n",
       "      <td>Adventure|Animation|Children|Comedy|Fantasy</td>\n",
       "    </tr>\n",
       "    <tr>\n",
       "      <th>1</th>\n",
       "      <td>3</td>\n",
       "      <td>Grumpier Old Men (1995)</td>\n",
       "      <td>1</td>\n",
       "      <td>4.0</td>\n",
       "      <td>Comedy|Romance</td>\n",
       "    </tr>\n",
       "    <tr>\n",
       "      <th>2</th>\n",
       "      <td>6</td>\n",
       "      <td>Heat (1995)</td>\n",
       "      <td>1</td>\n",
       "      <td>4.0</td>\n",
       "      <td>Action|Crime|Thriller</td>\n",
       "    </tr>\n",
       "    <tr>\n",
       "      <th>3</th>\n",
       "      <td>47</td>\n",
       "      <td>Seven (a.k.a. Se7en) (1995)</td>\n",
       "      <td>1</td>\n",
       "      <td>5.0</td>\n",
       "      <td>Mystery|Thriller</td>\n",
       "    </tr>\n",
       "    <tr>\n",
       "      <th>4</th>\n",
       "      <td>50</td>\n",
       "      <td>Usual Suspects, The (1995)</td>\n",
       "      <td>1</td>\n",
       "      <td>5.0</td>\n",
       "      <td>Crime|Mystery|Thriller</td>\n",
       "    </tr>\n",
       "  </tbody>\n",
       "</table>\n",
       "</div>"
      ],
      "text/plain": [
       "   movie_id                  movie_title  user_id  movie_rating  \\\n",
       "0         1             Toy Story (1995)        1           4.0   \n",
       "1         3      Grumpier Old Men (1995)        1           4.0   \n",
       "2         6                  Heat (1995)        1           4.0   \n",
       "3        47  Seven (a.k.a. Se7en) (1995)        1           5.0   \n",
       "4        50   Usual Suspects, The (1995)        1           5.0   \n",
       "\n",
       "                                  movie_genres  \n",
       "0  Adventure|Animation|Children|Comedy|Fantasy  \n",
       "1                               Comedy|Romance  \n",
       "2                        Action|Crime|Thriller  \n",
       "3                             Mystery|Thriller  \n",
       "4                       Crime|Mystery|Thriller  "
      ]
     },
     "execution_count": 15,
     "metadata": {},
     "output_type": "execute_result"
    }
   ],
   "source": [
    "full_ratings = pd.read_sql('SELECT * FROM full_ratings', con)\n",
    "full_ratings.head(5)"
   ]
  },
  {
   "cell_type": "code",
   "execution_count": 17,
   "metadata": {
    "colab": {
     "base_uri": "https://localhost:8080/"
    },
    "executionInfo": {
     "elapsed": 6,
     "status": "ok",
     "timestamp": 1746934890949,
     "user": {
      "displayName": "MATEO TORO LOPEZ",
      "userId": "14024993212465818370"
     },
     "user_tz": 300
    },
    "id": "SwyrlEWnYflr",
    "outputId": "c6c4b276-b55f-4509-819b-402fae0895e5"
   },
   "outputs": [
    {
     "name": "stdout",
     "output_type": "stream",
     "text": [
      "<class 'pandas.core.frame.DataFrame'>\n",
      "RangeIndex: 36767 entries, 0 to 36766\n",
      "Data columns (total 5 columns):\n",
      " #   Column        Non-Null Count  Dtype  \n",
      "---  ------        --------------  -----  \n",
      " 0   movie_id      36767 non-null  int64  \n",
      " 1   movie_title   36767 non-null  object \n",
      " 2   user_id       36767 non-null  int64  \n",
      " 3   movie_rating  36767 non-null  float64\n",
      " 4   movie_genres  36767 non-null  object \n",
      "dtypes: float64(1), int64(2), object(2)\n",
      "memory usage: 1.4+ MB\n"
     ]
    }
   ],
   "source": [
    "full_ratings.info()"
   ]
  },
  {
   "cell_type": "code",
   "execution_count": 52,
   "metadata": {
    "executionInfo": {
     "elapsed": 3,
     "status": "ok",
     "timestamp": 1746927578921,
     "user": {
      "displayName": "MATEO TORO LOPEZ",
      "userId": "14024993212465818370"
     },
     "user_tz": 300
    },
    "id": "fSbV_Jw1v3zP"
   },
   "outputs": [],
   "source": [
    "# Primero es necesario separar el título y el año de la tabla \"movies\" en columnas diferentes\n",
    "\n",
    "# Se identifico que hay espacios en blanco al final\n"
   ]
  },
  {
   "cell_type": "code",
   "execution_count": 18,
   "metadata": {
    "executionInfo": {
     "elapsed": 39,
     "status": "ok",
     "timestamp": 1746934955173,
     "user": {
      "displayName": "MATEO TORO LOPEZ",
      "userId": "14024993212465818370"
     },
     "user_tz": 300
    },
    "id": "f7jStWjJDHvm"
   },
   "outputs": [],
   "source": [
    "from sklearn.pipeline import Pipeline\n",
    "from sklearn.preprocessing import FunctionTransformer\n",
    "from mlxtend.preprocessing import TransactionEncoder\n",
    "\n",
    "# Paso 0: df_delete ya obtenido previamente con SQL\n",
    "\n",
    "# Función 1: separar géneros y convertir a binario con TransactionEncoder\n",
    "def split_and_encode_genres(df):\n",
    "    genres = df['movie_genres'].str.split('|')\n",
    "    te = TransactionEncoder()\n",
    "    genres_bin = te.fit_transform(genres)\n",
    "    genres_df = pd.DataFrame(genres_bin, columns=te.columns_)\n",
    "\n",
    "    # Eliminar \"(no genres listed)\" si existe\n",
    "    if '(no genres listed)' in genres_df.columns:\n",
    "        valid_rows = ~genres_df['(no genres listed)'] # La virgulilla me convierte lo TRUE en FALSE y viceversa\n",
    "        df = df.loc[valid_rows].reset_index(drop=True) # Filtro por las columnas que si tienen genero\n",
    "        genres_df = genres_df.loc[valid_rows].drop(columns='(no genres listed)').reset_index(drop=True)\n",
    "\n",
    "    # Eliminar columna original 'genres' y unir los géneros codificados\n",
    "    df = df.drop(columns='movie_genres').reset_index(drop=True) # Elimina la columna original 'genres' del df\n",
    "    return pd.concat([df, genres_df], axis=1)\n",
    "\n",
    "# Función 2: extraer título y año\n",
    "def extract_title_and_year(df):\n",
    "    year = df['movie_title'].str.extract(r'\\((\\d{4})\\)$')\n",
    "    year.columns = ['movie_year']\n",
    "    title = df['movie_title'].str.replace(r'\\s*\\(\\d{4}\\)$', '', regex=True)\n",
    "    title.name = 'movie_title'\n",
    "    df = df.drop(columns='movie_title')\n",
    "    df = pd.concat([df.reset_index(drop=True), title.reset_index(drop=True), year.reset_index(drop=True)], axis=1)\n",
    "    return df\n",
    "\n",
    "# Función 4: eliminar registros con year == NaN\n",
    "def remove_nan_years(df):\n",
    "    return df[df['movie_year'].notna()].reset_index(drop=True)\n",
    "\n",
    "# Construcción del pipeline\n",
    "pipeline = Pipeline(steps=[\n",
    "    ('genres_transform', FunctionTransformer(split_and_encode_genres, validate=False)),\n",
    "    ('extract_title_year', FunctionTransformer(extract_title_and_year, validate=False)),\n",
    "    ('remove_nan_years', FunctionTransformer(remove_nan_years, validate=False))\n",
    "])\n",
    "\n",
    "# Aplicar el pipeline\n",
    "db_movies_final = pipeline.fit_transform(full_ratings)"
   ]
  },
  {
   "cell_type": "code",
   "execution_count": 19,
   "metadata": {
    "colab": {
     "base_uri": "https://localhost:8080/",
     "height": 530
    },
    "executionInfo": {
     "elapsed": 46,
     "status": "ok",
     "timestamp": 1746937117545,
     "user": {
      "displayName": "MATEO TORO LOPEZ",
      "userId": "14024993212465818370"
     },
     "user_tz": 300
    },
    "id": "YqMkV3DZcAur",
    "outputId": "fed1d08f-7b8b-4a2a-c5be-6130192ca0f4"
   },
   "outputs": [
    {
     "data": {
      "text/html": [
       "<div>\n",
       "<style scoped>\n",
       "    .dataframe tbody tr th:only-of-type {\n",
       "        vertical-align: middle;\n",
       "    }\n",
       "\n",
       "    .dataframe tbody tr th {\n",
       "        vertical-align: top;\n",
       "    }\n",
       "\n",
       "    .dataframe thead th {\n",
       "        text-align: right;\n",
       "    }\n",
       "</style>\n",
       "<table border=\"1\" class=\"dataframe\">\n",
       "  <thead>\n",
       "    <tr style=\"text-align: right;\">\n",
       "      <th></th>\n",
       "      <th>movie_id</th>\n",
       "      <th>user_id</th>\n",
       "      <th>movie_rating</th>\n",
       "      <th>Action</th>\n",
       "      <th>Adventure</th>\n",
       "      <th>Animation</th>\n",
       "      <th>Children</th>\n",
       "      <th>Comedy</th>\n",
       "      <th>Crime</th>\n",
       "      <th>Documentary</th>\n",
       "      <th>...</th>\n",
       "      <th>IMAX</th>\n",
       "      <th>Musical</th>\n",
       "      <th>Mystery</th>\n",
       "      <th>Romance</th>\n",
       "      <th>Sci-Fi</th>\n",
       "      <th>Thriller</th>\n",
       "      <th>War</th>\n",
       "      <th>Western</th>\n",
       "      <th>movie_title</th>\n",
       "      <th>movie_year</th>\n",
       "    </tr>\n",
       "  </thead>\n",
       "  <tbody>\n",
       "    <tr>\n",
       "      <th>0</th>\n",
       "      <td>1</td>\n",
       "      <td>1</td>\n",
       "      <td>4.0</td>\n",
       "      <td>False</td>\n",
       "      <td>True</td>\n",
       "      <td>True</td>\n",
       "      <td>True</td>\n",
       "      <td>True</td>\n",
       "      <td>False</td>\n",
       "      <td>False</td>\n",
       "      <td>...</td>\n",
       "      <td>False</td>\n",
       "      <td>False</td>\n",
       "      <td>False</td>\n",
       "      <td>False</td>\n",
       "      <td>False</td>\n",
       "      <td>False</td>\n",
       "      <td>False</td>\n",
       "      <td>False</td>\n",
       "      <td>Toy Story</td>\n",
       "      <td>1995</td>\n",
       "    </tr>\n",
       "    <tr>\n",
       "      <th>1</th>\n",
       "      <td>3</td>\n",
       "      <td>1</td>\n",
       "      <td>4.0</td>\n",
       "      <td>False</td>\n",
       "      <td>False</td>\n",
       "      <td>False</td>\n",
       "      <td>False</td>\n",
       "      <td>True</td>\n",
       "      <td>False</td>\n",
       "      <td>False</td>\n",
       "      <td>...</td>\n",
       "      <td>False</td>\n",
       "      <td>False</td>\n",
       "      <td>False</td>\n",
       "      <td>True</td>\n",
       "      <td>False</td>\n",
       "      <td>False</td>\n",
       "      <td>False</td>\n",
       "      <td>False</td>\n",
       "      <td>Grumpier Old Men</td>\n",
       "      <td>1995</td>\n",
       "    </tr>\n",
       "    <tr>\n",
       "      <th>2</th>\n",
       "      <td>6</td>\n",
       "      <td>1</td>\n",
       "      <td>4.0</td>\n",
       "      <td>True</td>\n",
       "      <td>False</td>\n",
       "      <td>False</td>\n",
       "      <td>False</td>\n",
       "      <td>False</td>\n",
       "      <td>True</td>\n",
       "      <td>False</td>\n",
       "      <td>...</td>\n",
       "      <td>False</td>\n",
       "      <td>False</td>\n",
       "      <td>False</td>\n",
       "      <td>False</td>\n",
       "      <td>False</td>\n",
       "      <td>True</td>\n",
       "      <td>False</td>\n",
       "      <td>False</td>\n",
       "      <td>Heat</td>\n",
       "      <td>1995</td>\n",
       "    </tr>\n",
       "    <tr>\n",
       "      <th>3</th>\n",
       "      <td>47</td>\n",
       "      <td>1</td>\n",
       "      <td>5.0</td>\n",
       "      <td>False</td>\n",
       "      <td>False</td>\n",
       "      <td>False</td>\n",
       "      <td>False</td>\n",
       "      <td>False</td>\n",
       "      <td>False</td>\n",
       "      <td>False</td>\n",
       "      <td>...</td>\n",
       "      <td>False</td>\n",
       "      <td>False</td>\n",
       "      <td>True</td>\n",
       "      <td>False</td>\n",
       "      <td>False</td>\n",
       "      <td>True</td>\n",
       "      <td>False</td>\n",
       "      <td>False</td>\n",
       "      <td>Seven (a.k.a. Se7en)</td>\n",
       "      <td>1995</td>\n",
       "    </tr>\n",
       "    <tr>\n",
       "      <th>4</th>\n",
       "      <td>50</td>\n",
       "      <td>1</td>\n",
       "      <td>5.0</td>\n",
       "      <td>False</td>\n",
       "      <td>False</td>\n",
       "      <td>False</td>\n",
       "      <td>False</td>\n",
       "      <td>False</td>\n",
       "      <td>True</td>\n",
       "      <td>False</td>\n",
       "      <td>...</td>\n",
       "      <td>False</td>\n",
       "      <td>False</td>\n",
       "      <td>True</td>\n",
       "      <td>False</td>\n",
       "      <td>False</td>\n",
       "      <td>True</td>\n",
       "      <td>False</td>\n",
       "      <td>False</td>\n",
       "      <td>Usual Suspects, The</td>\n",
       "      <td>1995</td>\n",
       "    </tr>\n",
       "    <tr>\n",
       "      <th>...</th>\n",
       "      <td>...</td>\n",
       "      <td>...</td>\n",
       "      <td>...</td>\n",
       "      <td>...</td>\n",
       "      <td>...</td>\n",
       "      <td>...</td>\n",
       "      <td>...</td>\n",
       "      <td>...</td>\n",
       "      <td>...</td>\n",
       "      <td>...</td>\n",
       "      <td>...</td>\n",
       "      <td>...</td>\n",
       "      <td>...</td>\n",
       "      <td>...</td>\n",
       "      <td>...</td>\n",
       "      <td>...</td>\n",
       "      <td>...</td>\n",
       "      <td>...</td>\n",
       "      <td>...</td>\n",
       "      <td>...</td>\n",
       "      <td>...</td>\n",
       "    </tr>\n",
       "    <tr>\n",
       "      <th>36762</th>\n",
       "      <td>592</td>\n",
       "      <td>609</td>\n",
       "      <td>3.0</td>\n",
       "      <td>True</td>\n",
       "      <td>False</td>\n",
       "      <td>False</td>\n",
       "      <td>False</td>\n",
       "      <td>False</td>\n",
       "      <td>True</td>\n",
       "      <td>False</td>\n",
       "      <td>...</td>\n",
       "      <td>False</td>\n",
       "      <td>False</td>\n",
       "      <td>False</td>\n",
       "      <td>False</td>\n",
       "      <td>False</td>\n",
       "      <td>True</td>\n",
       "      <td>False</td>\n",
       "      <td>False</td>\n",
       "      <td>Batman</td>\n",
       "      <td>1989</td>\n",
       "    </tr>\n",
       "    <tr>\n",
       "      <th>36763</th>\n",
       "      <td>742</td>\n",
       "      <td>609</td>\n",
       "      <td>3.0</td>\n",
       "      <td>False</td>\n",
       "      <td>False</td>\n",
       "      <td>False</td>\n",
       "      <td>False</td>\n",
       "      <td>False</td>\n",
       "      <td>False</td>\n",
       "      <td>False</td>\n",
       "      <td>...</td>\n",
       "      <td>False</td>\n",
       "      <td>False</td>\n",
       "      <td>False</td>\n",
       "      <td>False</td>\n",
       "      <td>False</td>\n",
       "      <td>True</td>\n",
       "      <td>False</td>\n",
       "      <td>False</td>\n",
       "      <td>Thinner</td>\n",
       "      <td>1996</td>\n",
       "    </tr>\n",
       "    <tr>\n",
       "      <th>36764</th>\n",
       "      <td>786</td>\n",
       "      <td>609</td>\n",
       "      <td>3.0</td>\n",
       "      <td>True</td>\n",
       "      <td>False</td>\n",
       "      <td>False</td>\n",
       "      <td>False</td>\n",
       "      <td>False</td>\n",
       "      <td>False</td>\n",
       "      <td>False</td>\n",
       "      <td>...</td>\n",
       "      <td>False</td>\n",
       "      <td>False</td>\n",
       "      <td>False</td>\n",
       "      <td>False</td>\n",
       "      <td>False</td>\n",
       "      <td>True</td>\n",
       "      <td>False</td>\n",
       "      <td>False</td>\n",
       "      <td>Eraser</td>\n",
       "      <td>1996</td>\n",
       "    </tr>\n",
       "    <tr>\n",
       "      <th>36765</th>\n",
       "      <td>892</td>\n",
       "      <td>609</td>\n",
       "      <td>3.0</td>\n",
       "      <td>False</td>\n",
       "      <td>False</td>\n",
       "      <td>False</td>\n",
       "      <td>False</td>\n",
       "      <td>True</td>\n",
       "      <td>False</td>\n",
       "      <td>False</td>\n",
       "      <td>...</td>\n",
       "      <td>False</td>\n",
       "      <td>False</td>\n",
       "      <td>False</td>\n",
       "      <td>True</td>\n",
       "      <td>False</td>\n",
       "      <td>False</td>\n",
       "      <td>False</td>\n",
       "      <td>False</td>\n",
       "      <td>Twelfth Night</td>\n",
       "      <td>1996</td>\n",
       "    </tr>\n",
       "    <tr>\n",
       "      <th>36766</th>\n",
       "      <td>1059</td>\n",
       "      <td>609</td>\n",
       "      <td>3.0</td>\n",
       "      <td>False</td>\n",
       "      <td>False</td>\n",
       "      <td>False</td>\n",
       "      <td>False</td>\n",
       "      <td>False</td>\n",
       "      <td>False</td>\n",
       "      <td>False</td>\n",
       "      <td>...</td>\n",
       "      <td>False</td>\n",
       "      <td>False</td>\n",
       "      <td>False</td>\n",
       "      <td>True</td>\n",
       "      <td>False</td>\n",
       "      <td>False</td>\n",
       "      <td>False</td>\n",
       "      <td>False</td>\n",
       "      <td>William Shakespeare's Romeo + Juliet</td>\n",
       "      <td>1996</td>\n",
       "    </tr>\n",
       "  </tbody>\n",
       "</table>\n",
       "<p>36767 rows × 24 columns</p>\n",
       "</div>"
      ],
      "text/plain": [
       "       movie_id  user_id  movie_rating  Action  Adventure  Animation  \\\n",
       "0             1        1           4.0   False       True       True   \n",
       "1             3        1           4.0   False      False      False   \n",
       "2             6        1           4.0    True      False      False   \n",
       "3            47        1           5.0   False      False      False   \n",
       "4            50        1           5.0   False      False      False   \n",
       "...         ...      ...           ...     ...        ...        ...   \n",
       "36762       592      609           3.0    True      False      False   \n",
       "36763       742      609           3.0   False      False      False   \n",
       "36764       786      609           3.0    True      False      False   \n",
       "36765       892      609           3.0   False      False      False   \n",
       "36766      1059      609           3.0   False      False      False   \n",
       "\n",
       "       Children  Comedy  Crime  Documentary  ...   IMAX  Musical  Mystery  \\\n",
       "0          True    True  False        False  ...  False    False    False   \n",
       "1         False    True  False        False  ...  False    False    False   \n",
       "2         False   False   True        False  ...  False    False    False   \n",
       "3         False   False  False        False  ...  False    False     True   \n",
       "4         False   False   True        False  ...  False    False     True   \n",
       "...         ...     ...    ...          ...  ...    ...      ...      ...   \n",
       "36762     False   False   True        False  ...  False    False    False   \n",
       "36763     False   False  False        False  ...  False    False    False   \n",
       "36764     False   False  False        False  ...  False    False    False   \n",
       "36765     False    True  False        False  ...  False    False    False   \n",
       "36766     False   False  False        False  ...  False    False    False   \n",
       "\n",
       "       Romance  Sci-Fi  Thriller    War  Western  \\\n",
       "0        False   False     False  False    False   \n",
       "1         True   False     False  False    False   \n",
       "2        False   False      True  False    False   \n",
       "3        False   False      True  False    False   \n",
       "4        False   False      True  False    False   \n",
       "...        ...     ...       ...    ...      ...   \n",
       "36762    False   False      True  False    False   \n",
       "36763    False   False      True  False    False   \n",
       "36764    False   False      True  False    False   \n",
       "36765     True   False     False  False    False   \n",
       "36766     True   False     False  False    False   \n",
       "\n",
       "                                movie_title  movie_year  \n",
       "0                                 Toy Story        1995  \n",
       "1                          Grumpier Old Men        1995  \n",
       "2                                      Heat        1995  \n",
       "3                      Seven (a.k.a. Se7en)        1995  \n",
       "4                       Usual Suspects, The        1995  \n",
       "...                                     ...         ...  \n",
       "36762                                Batman        1989  \n",
       "36763                               Thinner        1996  \n",
       "36764                                Eraser        1996  \n",
       "36765                         Twelfth Night        1996  \n",
       "36766  William Shakespeare's Romeo + Juliet        1996  \n",
       "\n",
       "[36767 rows x 24 columns]"
      ]
     },
     "execution_count": 19,
     "metadata": {},
     "output_type": "execute_result"
    }
   ],
   "source": [
    "db_movies_final"
   ]
  },
  {
   "cell_type": "code",
   "execution_count": 20,
   "metadata": {
    "colab": {
     "base_uri": "https://localhost:8080/"
    },
    "executionInfo": {
     "elapsed": 84,
     "status": "ok",
     "timestamp": 1746937188446,
     "user": {
      "displayName": "MATEO TORO LOPEZ",
      "userId": "14024993212465818370"
     },
     "user_tz": 300
    },
    "id": "k3fy4DBUhA6F",
    "outputId": "c90e2844-888f-44a4-944c-f8a34e863bc4"
   },
   "outputs": [
    {
     "data": {
      "text/plain": [
       "36767"
      ]
     },
     "execution_count": 20,
     "metadata": {},
     "output_type": "execute_result"
    }
   ],
   "source": [
    "# la tabla \"full_ratings\" ya existe en la base de datos SQL, se eliminará\n",
    "# y se creará una nueva tabla con los datos actuales de db_movies_final\n",
    "db_movies_final.to_sql(\"full_ratings\", con, index=False, if_exists='replace')\n"
   ]
  },
  {
   "cell_type": "code",
   "execution_count": null,
   "metadata": {
    "id": "Oc2Unhjt7POz"
   },
   "outputs": [],
   "source": [
    "#pd.set_option('display.max_columns', None)  # Muestra todas las columnas\n",
    "#pd.set_option('display.width', 1000)  # Aumenta el ancho de la línea"
   ]
  },
  {
   "cell_type": "markdown",
   "metadata": {
    "id": "pM_g3X4w7PO0"
   },
   "source": [
    "## TOP 10 Peliculas con mejores calificaciones y mas calificadas"
   ]
  },
  {
   "cell_type": "markdown",
   "metadata": {},
   "source": [
    "Se uso una fórmula, que es una adaptación del ranking ponderado de IMDb (o Bayesian average). Se usa para evitar que películas con muy pocos votos, pero notas muy altas, aparezcan en los primeros lugares.\n",
    "\n",
    "https://stats.stackexchange.com/questions/189658/what-are-good-resources-on-bayesian-rating\n",
    "\n",
    "Weighted rating (WR) = (v ÷ (v+m)) × R + (m ÷ (v+m)) × C , where:\n",
    "\n",
    "* R = average for the movie (mean) = (Rating)\n",
    "* v = number of votes for the movie = (votes)\n",
    "* m = minimum votes required to be listed in the Top \n",
    "* C = the mean vote across the whole report "
   ]
  },
  {
   "cell_type": "markdown",
   "metadata": {
    "id": "b2icndY17PO2"
   },
   "source": [
    ">Se usa pesos para dar a los más calificados mejor puntuacion asi como a los mejor calificados mas puntuacion, entonces una pelicula con muchas calificaciones y bien calificadas tendra gran oportunidad de hacer parte de este top 10 de popularidad"
   ]
  },
  {
   "cell_type": "code",
   "execution_count": 22,
   "metadata": {
    "colab": {
     "base_uri": "https://localhost:8080/"
    },
    "executionInfo": {
     "elapsed": 112,
     "status": "ok",
     "timestamp": 1746937767661,
     "user": {
      "displayName": "MATEO TORO LOPEZ",
      "userId": "14024993212465818370"
     },
     "user_tz": 300
    },
    "id": "INpc9EpdkSx4",
    "outputId": "9918286c-eeb3-4aa8-f281-a500ddf6b677"
   },
   "outputs": [
    {
     "name": "stdout",
     "output_type": "stream",
     "text": [
      "Rating promedio (C): 3.731783936682351\n",
      "Percentil 75 del conteo de calificaciones (m): 20.0\n"
     ]
    }
   ],
   "source": [
    "# Calcular el promedio de calificación (C) y el percentil 75 de cantidad de calificaciones (m)\n",
    "\n",
    "# Conteo de rantings que agrupa las calificaciones por movieId en donde cada fila\n",
    "# representa una película y muestra cuántas veces ha sido calificada\n",
    "rating_counts_df = pd.read_sql(\"\"\"\n",
    "    SELECT COUNT(*) AS rating_count\n",
    "    FROM full_ratings\n",
    "    GROUP BY movie_id\n",
    "\"\"\", con)\n",
    "\n",
    "# Calificacion promedio / rating promedio\n",
    "avg_rating_df = pd.read_sql(\"\"\"\n",
    "    SELECT AVG(movie_rating) AS C\n",
    "    FROM full_ratings\n",
    "\"\"\", con)\n",
    "\n",
    "# Extraccion de calificación promedio\n",
    "C = avg_rating_df['C'].iloc[0]\n",
    "\n",
    "# calculo del percentil 75.\n",
    "m = rating_counts_df['rating_count'].quantile(0.75)\n",
    "\n",
    "print(f\"Rating promedio (C): {C}\")\n",
    "print(f\"Percentil 75 del conteo de calificaciones (m): {m}\")\n"
   ]
  },
  {
   "cell_type": "markdown",
   "metadata": {},
   "source": [
    "A continuación, se hará la busqueda en SQL y se va a crear la columna que será la calificación ponderada, ya que se considera es mejor que la simple (promedio), porque reduce el sesgo de películas con pocos votos, dando más relevancia a aquellas tienen más calificaciones. En este caso,"
   ]
  },
  {
   "cell_type": "code",
   "execution_count": 26,
   "metadata": {
    "colab": {
     "base_uri": "https://localhost:8080/",
     "height": 363
    },
    "executionInfo": {
     "elapsed": 139,
     "status": "ok",
     "timestamp": 1746938210069,
     "user": {
      "displayName": "MATEO TORO LOPEZ",
      "userId": "14024993212465818370"
     },
     "user_tz": 300
    },
    "id": "Xf8Q4I0v7PO3",
    "outputId": "37d6514a-7f16-4177-a8c4-62c17745027e"
   },
   "outputs": [
    {
     "data": {
      "text/html": [
       "<div>\n",
       "<style scoped>\n",
       "    .dataframe tbody tr th:only-of-type {\n",
       "        vertical-align: middle;\n",
       "    }\n",
       "\n",
       "    .dataframe tbody tr th {\n",
       "        vertical-align: top;\n",
       "    }\n",
       "\n",
       "    .dataframe thead th {\n",
       "        text-align: right;\n",
       "    }\n",
       "</style>\n",
       "<table border=\"1\" class=\"dataframe\">\n",
       "  <thead>\n",
       "    <tr style=\"text-align: right;\">\n",
       "      <th></th>\n",
       "      <th>movie_year</th>\n",
       "      <th>movie_title</th>\n",
       "      <th>rating_count</th>\n",
       "      <th>weighted_rating</th>\n",
       "    </tr>\n",
       "  </thead>\n",
       "  <tbody>\n",
       "    <tr>\n",
       "      <th>0</th>\n",
       "      <td>1994</td>\n",
       "      <td>Shawshank Redemption, The</td>\n",
       "      <td>224</td>\n",
       "      <td>4.402195</td>\n",
       "    </tr>\n",
       "    <tr>\n",
       "      <th>1</th>\n",
       "      <td>1977</td>\n",
       "      <td>Star Wars: Episode IV - A New Hope</td>\n",
       "      <td>154</td>\n",
       "      <td>4.227791</td>\n",
       "    </tr>\n",
       "    <tr>\n",
       "      <th>2</th>\n",
       "      <td>1998</td>\n",
       "      <td>American History X</td>\n",
       "      <td>80</td>\n",
       "      <td>4.206357</td>\n",
       "    </tr>\n",
       "    <tr>\n",
       "      <th>3</th>\n",
       "      <td>1995</td>\n",
       "      <td>Usual Suspects, The</td>\n",
       "      <td>127</td>\n",
       "      <td>4.194801</td>\n",
       "    </tr>\n",
       "    <tr>\n",
       "      <th>4</th>\n",
       "      <td>1980</td>\n",
       "      <td>Star Wars: Episode V - The Empire Strikes Back</td>\n",
       "      <td>127</td>\n",
       "      <td>4.194801</td>\n",
       "    </tr>\n",
       "    <tr>\n",
       "      <th>5</th>\n",
       "      <td>1983</td>\n",
       "      <td>Star Wars: Episode VI - Return of the Jedi</td>\n",
       "      <td>115</td>\n",
       "      <td>4.189894</td>\n",
       "    </tr>\n",
       "    <tr>\n",
       "      <th>6</th>\n",
       "      <td>1993</td>\n",
       "      <td>Schindler's List</td>\n",
       "      <td>148</td>\n",
       "      <td>4.182355</td>\n",
       "    </tr>\n",
       "    <tr>\n",
       "      <th>7</th>\n",
       "      <td>1994</td>\n",
       "      <td>Forrest Gump</td>\n",
       "      <td>223</td>\n",
       "      <td>4.175455</td>\n",
       "    </tr>\n",
       "    <tr>\n",
       "      <th>8</th>\n",
       "      <td>2009</td>\n",
       "      <td>Inglourious Basterds</td>\n",
       "      <td>53</td>\n",
       "      <td>4.173091</td>\n",
       "    </tr>\n",
       "    <tr>\n",
       "      <th>9</th>\n",
       "      <td>1987</td>\n",
       "      <td>Princess Bride, The</td>\n",
       "      <td>81</td>\n",
       "      <td>4.169660</td>\n",
       "    </tr>\n",
       "  </tbody>\n",
       "</table>\n",
       "</div>"
      ],
      "text/plain": [
       "  movie_year                                     movie_title  rating_count  \\\n",
       "0       1994                       Shawshank Redemption, The           224   \n",
       "1       1977              Star Wars: Episode IV - A New Hope           154   \n",
       "2       1998                              American History X            80   \n",
       "3       1995                             Usual Suspects, The           127   \n",
       "4       1980  Star Wars: Episode V - The Empire Strikes Back           127   \n",
       "5       1983      Star Wars: Episode VI - Return of the Jedi           115   \n",
       "6       1993                                Schindler's List           148   \n",
       "7       1994                                    Forrest Gump           223   \n",
       "8       2009                            Inglourious Basterds            53   \n",
       "9       1987                             Princess Bride, The            81   \n",
       "\n",
       "   weighted_rating  \n",
       "0         4.402195  \n",
       "1         4.227791  \n",
       "2         4.206357  \n",
       "3         4.194801  \n",
       "4         4.194801  \n",
       "5         4.189894  \n",
       "6         4.182355  \n",
       "7         4.175455  \n",
       "8         4.173091  \n",
       "9         4.169660  "
      ]
     },
     "execution_count": 26,
     "metadata": {},
     "output_type": "execute_result"
    }
   ],
   "source": [
    "## se prepara el query donde se calcula la calificación ponderada dando uso a\n",
    "# los productos con mejor calificación ponderada, es decir, los más calificados y con mayor calificación\n",
    "query = f\"\"\"\n",
    "    SELECT \n",
    "        movie_year,\n",
    "        movie_title,\n",
    "        COUNT(*) AS rating_count,\n",
    "        ((COUNT(*) / (COUNT(*) + {m})) * AVG(movie_rating) + ({m} / (COUNT(*) + {m})) * {C}) AS weighted_rating\n",
    "    FROM full_ratings\n",
    "    WHERE movie_rating > 0\n",
    "    GROUP BY movie_title\n",
    "    HAVING rating_count > 30\n",
    "    ORDER BY weighted_rating DESC\n",
    "    LIMIT 10\n",
    "\"\"\"\n",
    "df = pd.read_sql(query, con)\n",
    "df"
   ]
  },
  {
   "cell_type": "code",
   "execution_count": 36,
   "metadata": {
    "colab": {
     "base_uri": "https://localhost:8080/",
     "height": 1000
    },
    "executionInfo": {
     "elapsed": 621,
     "status": "ok",
     "timestamp": 1746938195879,
     "user": {
      "displayName": "MATEO TORO LOPEZ",
      "userId": "14024993212465818370"
     },
     "user_tz": 300
    },
    "id": "phT33Yi0QfoD",
    "outputId": "39b0f6a3-bc02-45d8-cac8-58f0f9b0d06d"
   },
   "outputs": [
    {
     "data": {
      "text/html": [
       "<div>\n",
       "<style scoped>\n",
       "    .dataframe tbody tr th:only-of-type {\n",
       "        vertical-align: middle;\n",
       "    }\n",
       "\n",
       "    .dataframe tbody tr th {\n",
       "        vertical-align: top;\n",
       "    }\n",
       "\n",
       "    .dataframe thead th {\n",
       "        text-align: right;\n",
       "    }\n",
       "</style>\n",
       "<table border=\"1\" class=\"dataframe\">\n",
       "  <thead>\n",
       "    <tr style=\"text-align: right;\">\n",
       "      <th></th>\n",
       "      <th>movie_title</th>\n",
       "      <th>movie_year</th>\n",
       "      <th>best_rating</th>\n",
       "    </tr>\n",
       "  </thead>\n",
       "  <tbody>\n",
       "    <tr>\n",
       "      <th>0</th>\n",
       "      <td>Avengers: Infinity War - Part I</td>\n",
       "      <td>2018</td>\n",
       "      <td>5.0</td>\n",
       "    </tr>\n",
       "    <tr>\n",
       "      <th>1</th>\n",
       "      <td>Thor: Ragnarok</td>\n",
       "      <td>2017</td>\n",
       "      <td>5.0</td>\n",
       "    </tr>\n",
       "    <tr>\n",
       "      <th>2</th>\n",
       "      <td>10 Cloverfield Lane</td>\n",
       "      <td>2016</td>\n",
       "      <td>5.0</td>\n",
       "    </tr>\n",
       "    <tr>\n",
       "      <th>3</th>\n",
       "      <td>Spectre</td>\n",
       "      <td>2015</td>\n",
       "      <td>5.0</td>\n",
       "    </tr>\n",
       "    <tr>\n",
       "      <th>4</th>\n",
       "      <td>Interstellar</td>\n",
       "      <td>2014</td>\n",
       "      <td>5.0</td>\n",
       "    </tr>\n",
       "    <tr>\n",
       "      <th>5</th>\n",
       "      <td>Prisoners</td>\n",
       "      <td>2013</td>\n",
       "      <td>5.0</td>\n",
       "    </tr>\n",
       "    <tr>\n",
       "      <th>6</th>\n",
       "      <td>Dark Knight Rises, The</td>\n",
       "      <td>2012</td>\n",
       "      <td>5.0</td>\n",
       "    </tr>\n",
       "    <tr>\n",
       "      <th>7</th>\n",
       "      <td>Intouchables</td>\n",
       "      <td>2011</td>\n",
       "      <td>5.0</td>\n",
       "    </tr>\n",
       "    <tr>\n",
       "      <th>8</th>\n",
       "      <td>Despicable Me</td>\n",
       "      <td>2010</td>\n",
       "      <td>5.0</td>\n",
       "    </tr>\n",
       "    <tr>\n",
       "      <th>9</th>\n",
       "      <td>Moon</td>\n",
       "      <td>2009</td>\n",
       "      <td>5.0</td>\n",
       "    </tr>\n",
       "  </tbody>\n",
       "</table>\n",
       "</div>"
      ],
      "text/plain": [
       "                       movie_title movie_year  best_rating\n",
       "0  Avengers: Infinity War - Part I       2018          5.0\n",
       "1                   Thor: Ragnarok       2017          5.0\n",
       "2              10 Cloverfield Lane       2016          5.0\n",
       "3                          Spectre       2015          5.0\n",
       "4                     Interstellar       2014          5.0\n",
       "5                        Prisoners       2013          5.0\n",
       "6           Dark Knight Rises, The       2012          5.0\n",
       "7                     Intouchables       2011          5.0\n",
       "8                    Despicable Me       2010          5.0\n",
       "9                             Moon       2009          5.0"
      ]
     },
     "execution_count": 36,
     "metadata": {},
     "output_type": "execute_result"
    }
   ],
   "source": [
    "#### las mejores peliculas calificados en los ultimos 10 años registrados ###\n",
    "\n",
    "pd.read_sql(\"\"\"\n",
    "    -- Crear una tabla temporal con películas rankeadas por año y calificación, debe ser con WITH porque\n",
    "    -- esto es SQLite entonces no se puede usar SELECT DISTINCT        \n",
    "            \n",
    "    WITH ranked_movies AS ( \n",
    "    SELECT \n",
    "        movie_title,\n",
    "        movie_year,\n",
    "        movie_id,\n",
    "        movie_rating,\n",
    "        ROW_NUMBER() OVER (PARTITION BY movie_year ORDER BY movie_rating DESC) AS rank\n",
    "        -- Asigna un número de fila ordenado por calificación descendente dentro de cada año    \n",
    "    FROM full_ratings\n",
    ")\n",
    "SELECT \n",
    "    movie_title,\n",
    "    movie_year,\n",
    "    movie_rating AS best_rating\n",
    "FROM ranked_movies\n",
    "WHERE rank = 1  -- Solo tomar la mejor calificada por año\n",
    "ORDER BY movie_year DESC\n",
    "LIMIT 10; --las 10 películas más recientes\n",
    "\"\"\", con)"
   ]
  },
  {
   "cell_type": "code",
   "execution_count": null,
   "metadata": {
    "id": "zcL36egDBXbV"
   },
   "outputs": [],
   "source": [
    "#######################################################################\n",
    "######## 2.1 Sistema de recomendación basado en contenido un solo producto - Manual ########\n",
    "#######################################################################\n",
    "\n",
    "movies_2=pd.read_sql('select * from movies_final', con )\n",
    "\n",
    "movies_2.info()\n",
    "movies_2['año_estreno']=movies_2.año_estreno.astype('int')\n",
    "movies_2.info()\n",
    "\n",
    "##### escalar para que año esté en el mismo rango ###\n",
    "\n",
    "sc=MinMaxScaler()\n",
    "movies_2[[\"year_sc\"]]=sc.fit_transform(movies_2[['year_pub']])\n",
    "\n",
    "\n",
    "\n",
    "## eliminar filas que no se van a utilizar ###\n",
    "\n",
    "movies_2_dum1=movies_2.drop(columns=['isbn','i_url','year_pub','book_title']) ## ingresar las columnas a quitar ###\n",
    "\n",
    "#### convertir a dummies\n",
    "\n",
    "movies_2_dum1['book_author'].nunique()\n",
    "movies_2_dum1['publisher'].nunique()\n",
    "\n",
    "col_dum=['book_author','publisher']\n",
    "movies_2_dum2=pd.get_dummies(movies_2_dum1,columns=col_dum)\n",
    "movies_2_dum2.shape\n",
    "\n",
    "joblib.dump(movies_2_dum2,\"salidas\\\\movies_2_dum2.joblib\") ### para utilizar en segundos modelos\n",
    "\n",
    "\n"
   ]
  }
 ],
 "metadata": {
  "colab": {
   "provenance": [
    {
     "file_id": "1sJPlPjX5yJsVv79tQKw-u1-Hr1PuPQFw",
     "timestamp": 1746504145586
    }
   ]
  },
  "kernelspec": {
   "display_name": "Python 3",
   "name": "python3"
  },
  "language_info": {
   "codemirror_mode": {
    "name": "ipython",
    "version": 3
   },
   "file_extension": ".py",
   "mimetype": "text/x-python",
   "name": "python",
   "nbconvert_exporter": "python",
   "pygments_lexer": "ipython3",
   "version": "3.11.5"
  }
 },
 "nbformat": 4,
 "nbformat_minor": 0
}
